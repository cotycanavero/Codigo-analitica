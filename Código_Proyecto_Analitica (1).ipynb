{
  "cells": [
    {
      "cell_type": "code",
      "execution_count": 2,
      "metadata": {
        "colab": {
          "base_uri": "https://localhost:8080/",
          "height": 143
        },
        "id": "Fk0XDTv62o0V",
        "outputId": "620f219d-1843-447f-ee8c-8d3b6e75d136"
      },
      "outputs": [
        {
          "output_type": "execute_result",
          "data": {
            "text/plain": [
              "  Country_Name  NO2_2020  NO2_2021  NO2_2022\n",
              "0      Albania     93.70      91.4      89.7\n",
              "1      Andorra     95.74      92.3      91.0\n",
              "2    Argentina     91.67      89.4      88.3"
            ],
            "text/html": [
              "\n",
              "  <div id=\"df-00aaa556-02b3-434a-89bb-5a16f6ca399e\">\n",
              "    <div class=\"colab-df-container\">\n",
              "      <div>\n",
              "<style scoped>\n",
              "    .dataframe tbody tr th:only-of-type {\n",
              "        vertical-align: middle;\n",
              "    }\n",
              "\n",
              "    .dataframe tbody tr th {\n",
              "        vertical-align: top;\n",
              "    }\n",
              "\n",
              "    .dataframe thead th {\n",
              "        text-align: right;\n",
              "    }\n",
              "</style>\n",
              "<table border=\"1\" class=\"dataframe\">\n",
              "  <thead>\n",
              "    <tr style=\"text-align: right;\">\n",
              "      <th></th>\n",
              "      <th>Country_Name</th>\n",
              "      <th>NO2_2020</th>\n",
              "      <th>NO2_2021</th>\n",
              "      <th>NO2_2022</th>\n",
              "    </tr>\n",
              "  </thead>\n",
              "  <tbody>\n",
              "    <tr>\n",
              "      <th>0</th>\n",
              "      <td>Albania</td>\n",
              "      <td>93.70</td>\n",
              "      <td>91.4</td>\n",
              "      <td>89.7</td>\n",
              "    </tr>\n",
              "    <tr>\n",
              "      <th>1</th>\n",
              "      <td>Andorra</td>\n",
              "      <td>95.74</td>\n",
              "      <td>92.3</td>\n",
              "      <td>91.0</td>\n",
              "    </tr>\n",
              "    <tr>\n",
              "      <th>2</th>\n",
              "      <td>Argentina</td>\n",
              "      <td>91.67</td>\n",
              "      <td>89.4</td>\n",
              "      <td>88.3</td>\n",
              "    </tr>\n",
              "  </tbody>\n",
              "</table>\n",
              "</div>\n",
              "      <button class=\"colab-df-convert\" onclick=\"convertToInteractive('df-00aaa556-02b3-434a-89bb-5a16f6ca399e')\"\n",
              "              title=\"Convert this dataframe to an interactive table.\"\n",
              "              style=\"display:none;\">\n",
              "        \n",
              "  <svg xmlns=\"http://www.w3.org/2000/svg\" height=\"24px\"viewBox=\"0 0 24 24\"\n",
              "       width=\"24px\">\n",
              "    <path d=\"M0 0h24v24H0V0z\" fill=\"none\"/>\n",
              "    <path d=\"M18.56 5.44l.94 2.06.94-2.06 2.06-.94-2.06-.94-.94-2.06-.94 2.06-2.06.94zm-11 1L8.5 8.5l.94-2.06 2.06-.94-2.06-.94L8.5 2.5l-.94 2.06-2.06.94zm10 10l.94 2.06.94-2.06 2.06-.94-2.06-.94-.94-2.06-.94 2.06-2.06.94z\"/><path d=\"M17.41 7.96l-1.37-1.37c-.4-.4-.92-.59-1.43-.59-.52 0-1.04.2-1.43.59L10.3 9.45l-7.72 7.72c-.78.78-.78 2.05 0 2.83L4 21.41c.39.39.9.59 1.41.59.51 0 1.02-.2 1.41-.59l7.78-7.78 2.81-2.81c.8-.78.8-2.07 0-2.86zM5.41 20L4 18.59l7.72-7.72 1.47 1.35L5.41 20z\"/>\n",
              "  </svg>\n",
              "      </button>\n",
              "      \n",
              "  <style>\n",
              "    .colab-df-container {\n",
              "      display:flex;\n",
              "      flex-wrap:wrap;\n",
              "      gap: 12px;\n",
              "    }\n",
              "\n",
              "    .colab-df-convert {\n",
              "      background-color: #E8F0FE;\n",
              "      border: none;\n",
              "      border-radius: 50%;\n",
              "      cursor: pointer;\n",
              "      display: none;\n",
              "      fill: #1967D2;\n",
              "      height: 32px;\n",
              "      padding: 0 0 0 0;\n",
              "      width: 32px;\n",
              "    }\n",
              "\n",
              "    .colab-df-convert:hover {\n",
              "      background-color: #E2EBFA;\n",
              "      box-shadow: 0px 1px 2px rgba(60, 64, 67, 0.3), 0px 1px 3px 1px rgba(60, 64, 67, 0.15);\n",
              "      fill: #174EA6;\n",
              "    }\n",
              "\n",
              "    [theme=dark] .colab-df-convert {\n",
              "      background-color: #3B4455;\n",
              "      fill: #D2E3FC;\n",
              "    }\n",
              "\n",
              "    [theme=dark] .colab-df-convert:hover {\n",
              "      background-color: #434B5C;\n",
              "      box-shadow: 0px 1px 3px 1px rgba(0, 0, 0, 0.15);\n",
              "      filter: drop-shadow(0px 1px 2px rgba(0, 0, 0, 0.3));\n",
              "      fill: #FFFFFF;\n",
              "    }\n",
              "  </style>\n",
              "\n",
              "      <script>\n",
              "        const buttonEl =\n",
              "          document.querySelector('#df-00aaa556-02b3-434a-89bb-5a16f6ca399e button.colab-df-convert');\n",
              "        buttonEl.style.display =\n",
              "          google.colab.kernel.accessAllowed ? 'block' : 'none';\n",
              "\n",
              "        async function convertToInteractive(key) {\n",
              "          const element = document.querySelector('#df-00aaa556-02b3-434a-89bb-5a16f6ca399e');\n",
              "          const dataTable =\n",
              "            await google.colab.kernel.invokeFunction('convertToInteractive',\n",
              "                                                     [key], {});\n",
              "          if (!dataTable) return;\n",
              "\n",
              "          const docLinkHtml = 'Like what you see? Visit the ' +\n",
              "            '<a target=\"_blank\" href=https://colab.research.google.com/notebooks/data_table.ipynb>data table notebook</a>'\n",
              "            + ' to learn more about interactive tables.';\n",
              "          element.innerHTML = '';\n",
              "          dataTable['output_type'] = 'display_data';\n",
              "          await google.colab.output.renderOutput(dataTable, element);\n",
              "          const docLink = document.createElement('div');\n",
              "          docLink.innerHTML = docLinkHtml;\n",
              "          element.appendChild(docLink);\n",
              "        }\n",
              "      </script>\n",
              "    </div>\n",
              "  </div>\n",
              "  "
            ]
          },
          "metadata": {},
          "execution_count": 2
        }
      ],
      "source": [
        "#Cargamos el dataset de la contaminación por país\n",
        "\n",
        "import pandas as pd\n",
        "df_no2 = pd.read_excel(\"no2.xlsx\")\n",
        "df_no2.head(3)"
      ]
    },
    {
      "cell_type": "code",
      "execution_count": null,
      "metadata": {
        "colab": {
          "base_uri": "https://localhost:8080/",
          "height": 144
        },
        "id": "pX0AvsZC8Brs",
        "outputId": "1cea9bf7-f1ba-4b1e-e8b7-52ad40fa2c04"
      },
      "outputs": [
        {
          "data": {
            "text/html": [
              "\n",
              "  <div id=\"df-6f9ee558-dbe3-48e3-9143-81acf281aec2\">\n",
              "    <div class=\"colab-df-container\">\n",
              "      <div>\n",
              "<style scoped>\n",
              "    .dataframe tbody tr th:only-of-type {\n",
              "        vertical-align: middle;\n",
              "    }\n",
              "\n",
              "    .dataframe tbody tr th {\n",
              "        vertical-align: top;\n",
              "    }\n",
              "\n",
              "    .dataframe thead th {\n",
              "        text-align: right;\n",
              "    }\n",
              "</style>\n",
              "<table border=\"1\" class=\"dataframe\">\n",
              "  <thead>\n",
              "    <tr style=\"text-align: right;\">\n",
              "      <th></th>\n",
              "      <th>Country_name</th>\n",
              "      <th>Sales_2020</th>\n",
              "      <th>Sales_2021</th>\n",
              "      <th>Sales_2022</th>\n",
              "      <th>Sales_2023</th>\n",
              "    </tr>\n",
              "  </thead>\n",
              "  <tbody>\n",
              "    <tr>\n",
              "      <th>0</th>\n",
              "      <td>Costa Rica</td>\n",
              "      <td>18452</td>\n",
              "      <td>20452</td>\n",
              "      <td>23843</td>\n",
              "      <td>25369</td>\n",
              "    </tr>\n",
              "    <tr>\n",
              "      <th>1</th>\n",
              "      <td>Argentina</td>\n",
              "      <td>22090</td>\n",
              "      <td>23980</td>\n",
              "      <td>25480</td>\n",
              "      <td>26935</td>\n",
              "    </tr>\n",
              "    <tr>\n",
              "      <th>2</th>\n",
              "      <td>Uruguay</td>\n",
              "      <td>32176</td>\n",
              "      <td>34176</td>\n",
              "      <td>36276</td>\n",
              "      <td>36999</td>\n",
              "    </tr>\n",
              "  </tbody>\n",
              "</table>\n",
              "</div>\n",
              "      <button class=\"colab-df-convert\" onclick=\"convertToInteractive('df-6f9ee558-dbe3-48e3-9143-81acf281aec2')\"\n",
              "              title=\"Convert this dataframe to an interactive table.\"\n",
              "              style=\"display:none;\">\n",
              "        \n",
              "  <svg xmlns=\"http://www.w3.org/2000/svg\" height=\"24px\"viewBox=\"0 0 24 24\"\n",
              "       width=\"24px\">\n",
              "    <path d=\"M0 0h24v24H0V0z\" fill=\"none\"/>\n",
              "    <path d=\"M18.56 5.44l.94 2.06.94-2.06 2.06-.94-2.06-.94-.94-2.06-.94 2.06-2.06.94zm-11 1L8.5 8.5l.94-2.06 2.06-.94-2.06-.94L8.5 2.5l-.94 2.06-2.06.94zm10 10l.94 2.06.94-2.06 2.06-.94-2.06-.94-.94-2.06-.94 2.06-2.06.94z\"/><path d=\"M17.41 7.96l-1.37-1.37c-.4-.4-.92-.59-1.43-.59-.52 0-1.04.2-1.43.59L10.3 9.45l-7.72 7.72c-.78.78-.78 2.05 0 2.83L4 21.41c.39.39.9.59 1.41.59.51 0 1.02-.2 1.41-.59l7.78-7.78 2.81-2.81c.8-.78.8-2.07 0-2.86zM5.41 20L4 18.59l7.72-7.72 1.47 1.35L5.41 20z\"/>\n",
              "  </svg>\n",
              "      </button>\n",
              "      \n",
              "  <style>\n",
              "    .colab-df-container {\n",
              "      display:flex;\n",
              "      flex-wrap:wrap;\n",
              "      gap: 12px;\n",
              "    }\n",
              "\n",
              "    .colab-df-convert {\n",
              "      background-color: #E8F0FE;\n",
              "      border: none;\n",
              "      border-radius: 50%;\n",
              "      cursor: pointer;\n",
              "      display: none;\n",
              "      fill: #1967D2;\n",
              "      height: 32px;\n",
              "      padding: 0 0 0 0;\n",
              "      width: 32px;\n",
              "    }\n",
              "\n",
              "    .colab-df-convert:hover {\n",
              "      background-color: #E2EBFA;\n",
              "      box-shadow: 0px 1px 2px rgba(60, 64, 67, 0.3), 0px 1px 3px 1px rgba(60, 64, 67, 0.15);\n",
              "      fill: #174EA6;\n",
              "    }\n",
              "\n",
              "    [theme=dark] .colab-df-convert {\n",
              "      background-color: #3B4455;\n",
              "      fill: #D2E3FC;\n",
              "    }\n",
              "\n",
              "    [theme=dark] .colab-df-convert:hover {\n",
              "      background-color: #434B5C;\n",
              "      box-shadow: 0px 1px 3px 1px rgba(0, 0, 0, 0.15);\n",
              "      filter: drop-shadow(0px 1px 2px rgba(0, 0, 0, 0.3));\n",
              "      fill: #FFFFFF;\n",
              "    }\n",
              "  </style>\n",
              "\n",
              "      <script>\n",
              "        const buttonEl =\n",
              "          document.querySelector('#df-6f9ee558-dbe3-48e3-9143-81acf281aec2 button.colab-df-convert');\n",
              "        buttonEl.style.display =\n",
              "          google.colab.kernel.accessAllowed ? 'block' : 'none';\n",
              "\n",
              "        async function convertToInteractive(key) {\n",
              "          const element = document.querySelector('#df-6f9ee558-dbe3-48e3-9143-81acf281aec2');\n",
              "          const dataTable =\n",
              "            await google.colab.kernel.invokeFunction('convertToInteractive',\n",
              "                                                     [key], {});\n",
              "          if (!dataTable) return;\n",
              "\n",
              "          const docLinkHtml = 'Like what you see? Visit the ' +\n",
              "            '<a target=\"_blank\" href=https://colab.research.google.com/notebooks/data_table.ipynb>data table notebook</a>'\n",
              "            + ' to learn more about interactive tables.';\n",
              "          element.innerHTML = '';\n",
              "          dataTable['output_type'] = 'display_data';\n",
              "          await google.colab.output.renderOutput(dataTable, element);\n",
              "          const docLink = document.createElement('div');\n",
              "          docLink.innerHTML = docLinkHtml;\n",
              "          element.appendChild(docLink);\n",
              "        }\n",
              "      </script>\n",
              "    </div>\n",
              "  </div>\n",
              "  "
            ],
            "text/plain": [
              "  Country_name  Sales_2020  Sales_2021  Sales_2022  Sales_2023\n",
              "0   Costa Rica       18452       20452       23843       25369\n",
              "1    Argentina       22090       23980       25480       26935\n",
              "2      Uruguay       32176       34176       36276       36999"
            ]
          },
          "execution_count": 53,
          "metadata": {},
          "output_type": "execute_result"
        }
      ],
      "source": [
        "#Cargamos el dataset de las ventas de autos por país\n",
        "\n",
        "import pandas as pd\n",
        "df_sales = pd.read_excel(\"Excel Sales Autos.xlsx\")\n",
        "df_sales.head(3)"
      ]
    },
    {
      "cell_type": "code",
      "execution_count": null,
      "metadata": {
        "colab": {
          "base_uri": "https://localhost:8080/",
          "height": 1000
        },
        "id": "pdSbq7vs8Q_z",
        "outputId": "442387f5-7129-4649-8fe6-4788303a140c"
      },
      "outputs": [
        {
          "data": {
            "text/html": [
              "\n",
              "  <div id=\"df-1db6fde9-9202-4910-a4e4-2915d9241240\">\n",
              "    <div class=\"colab-df-container\">\n",
              "      <div>\n",
              "<style scoped>\n",
              "    .dataframe tbody tr th:only-of-type {\n",
              "        vertical-align: middle;\n",
              "    }\n",
              "\n",
              "    .dataframe tbody tr th {\n",
              "        vertical-align: top;\n",
              "    }\n",
              "\n",
              "    .dataframe thead th {\n",
              "        text-align: right;\n",
              "    }\n",
              "</style>\n",
              "<table border=\"1\" class=\"dataframe\">\n",
              "  <thead>\n",
              "    <tr style=\"text-align: right;\">\n",
              "      <th></th>\n",
              "      <th>Country_Name</th>\n",
              "      <th>NO2_2020</th>\n",
              "      <th>NO2_2021</th>\n",
              "      <th>NO2_2022</th>\n",
              "      <th>Country_name</th>\n",
              "      <th>Sales_2020</th>\n",
              "      <th>Sales_2021</th>\n",
              "      <th>Sales_2022</th>\n",
              "      <th>Sales_2023</th>\n",
              "    </tr>\n",
              "  </thead>\n",
              "  <tbody>\n",
              "    <tr>\n",
              "      <th>0</th>\n",
              "      <td>Argentina</td>\n",
              "      <td>91.67</td>\n",
              "      <td>89.40</td>\n",
              "      <td>88.30</td>\n",
              "      <td>Argentina</td>\n",
              "      <td>22090</td>\n",
              "      <td>23980</td>\n",
              "      <td>25480</td>\n",
              "      <td>26935</td>\n",
              "    </tr>\n",
              "    <tr>\n",
              "      <th>1</th>\n",
              "      <td>Australia</td>\n",
              "      <td>65.48</td>\n",
              "      <td>65.70</td>\n",
              "      <td>66.10</td>\n",
              "      <td>Australia</td>\n",
              "      <td>43844</td>\n",
              "      <td>45984</td>\n",
              "      <td>48900</td>\n",
              "      <td>50690</td>\n",
              "    </tr>\n",
              "    <tr>\n",
              "      <th>2</th>\n",
              "      <td>Austria</td>\n",
              "      <td>94.47</td>\n",
              "      <td>92.10</td>\n",
              "      <td>90.50</td>\n",
              "      <td>Austria</td>\n",
              "      <td>22090</td>\n",
              "      <td>24120</td>\n",
              "      <td>26090</td>\n",
              "      <td>26890</td>\n",
              "    </tr>\n",
              "    <tr>\n",
              "      <th>3</th>\n",
              "      <td>Belgium</td>\n",
              "      <td>95.20</td>\n",
              "      <td>95.40</td>\n",
              "      <td>93.90</td>\n",
              "      <td>Belgium</td>\n",
              "      <td>34903</td>\n",
              "      <td>36603</td>\n",
              "      <td>38903</td>\n",
              "      <td>40520</td>\n",
              "    </tr>\n",
              "    <tr>\n",
              "      <th>4</th>\n",
              "      <td>Brazil</td>\n",
              "      <td>91.08</td>\n",
              "      <td>89.50</td>\n",
              "      <td>88.90</td>\n",
              "      <td>Brazil</td>\n",
              "      <td>31673</td>\n",
              "      <td>33473</td>\n",
              "      <td>35673</td>\n",
              "      <td>36590</td>\n",
              "    </tr>\n",
              "    <tr>\n",
              "      <th>5</th>\n",
              "      <td>Canada</td>\n",
              "      <td>96.95</td>\n",
              "      <td>95.40</td>\n",
              "      <td>95.20</td>\n",
              "      <td>Canada</td>\n",
              "      <td>26833</td>\n",
              "      <td>28821</td>\n",
              "      <td>30159</td>\n",
              "      <td>32584</td>\n",
              "    </tr>\n",
              "    <tr>\n",
              "      <th>6</th>\n",
              "      <td>Chile</td>\n",
              "      <td>92.85</td>\n",
              "      <td>90.54</td>\n",
              "      <td>90.60</td>\n",
              "      <td>Chile</td>\n",
              "      <td>25440</td>\n",
              "      <td>26640</td>\n",
              "      <td>27200</td>\n",
              "      <td>29635</td>\n",
              "    </tr>\n",
              "    <tr>\n",
              "      <th>7</th>\n",
              "      <td>Colombia</td>\n",
              "      <td>72.29</td>\n",
              "      <td>73.40</td>\n",
              "      <td>71.10</td>\n",
              "      <td>Colombia</td>\n",
              "      <td>19843</td>\n",
              "      <td>21846</td>\n",
              "      <td>23843</td>\n",
              "      <td>23987</td>\n",
              "    </tr>\n",
              "    <tr>\n",
              "      <th>8</th>\n",
              "      <td>Costa Rica</td>\n",
              "      <td>100.00</td>\n",
              "      <td>98.39</td>\n",
              "      <td>95.20</td>\n",
              "      <td>Costa Rica</td>\n",
              "      <td>18452</td>\n",
              "      <td>20452</td>\n",
              "      <td>23843</td>\n",
              "      <td>25369</td>\n",
              "    </tr>\n",
              "    <tr>\n",
              "      <th>9</th>\n",
              "      <td>Croatia</td>\n",
              "      <td>91.75</td>\n",
              "      <td>91.75</td>\n",
              "      <td>88.20</td>\n",
              "      <td>Croatia</td>\n",
              "      <td>39780</td>\n",
              "      <td>42280</td>\n",
              "      <td>45900</td>\n",
              "      <td>47152</td>\n",
              "    </tr>\n",
              "    <tr>\n",
              "      <th>10</th>\n",
              "      <td>Cyprus</td>\n",
              "      <td>97.53</td>\n",
              "      <td>96.50</td>\n",
              "      <td>95.66</td>\n",
              "      <td>Cyprus</td>\n",
              "      <td>31200</td>\n",
              "      <td>33200</td>\n",
              "      <td>34850</td>\n",
              "      <td>35920</td>\n",
              "    </tr>\n",
              "    <tr>\n",
              "      <th>11</th>\n",
              "      <td>Denmark</td>\n",
              "      <td>92.50</td>\n",
              "      <td>89.35</td>\n",
              "      <td>88.70</td>\n",
              "      <td>Denmark</td>\n",
              "      <td>31881</td>\n",
              "      <td>33581</td>\n",
              "      <td>35281</td>\n",
              "      <td>36920</td>\n",
              "    </tr>\n",
              "    <tr>\n",
              "      <th>12</th>\n",
              "      <td>Estonia</td>\n",
              "      <td>98.77</td>\n",
              "      <td>97.40</td>\n",
              "      <td>97.10</td>\n",
              "      <td>Estonia</td>\n",
              "      <td>29530</td>\n",
              "      <td>32530</td>\n",
              "      <td>34230</td>\n",
              "      <td>37890</td>\n",
              "    </tr>\n",
              "    <tr>\n",
              "      <th>13</th>\n",
              "      <td>Finland</td>\n",
              "      <td>97.40</td>\n",
              "      <td>95.30</td>\n",
              "      <td>96.10</td>\n",
              "      <td>Finland</td>\n",
              "      <td>30522</td>\n",
              "      <td>32722</td>\n",
              "      <td>35260</td>\n",
              "      <td>37560</td>\n",
              "    </tr>\n",
              "    <tr>\n",
              "      <th>14</th>\n",
              "      <td>France</td>\n",
              "      <td>97.36</td>\n",
              "      <td>96.20</td>\n",
              "      <td>94.30</td>\n",
              "      <td>France</td>\n",
              "      <td>30566</td>\n",
              "      <td>32362</td>\n",
              "      <td>34960</td>\n",
              "      <td>36589</td>\n",
              "    </tr>\n",
              "    <tr>\n",
              "      <th>15</th>\n",
              "      <td>Germany</td>\n",
              "      <td>97.45</td>\n",
              "      <td>97.45</td>\n",
              "      <td>97.22</td>\n",
              "      <td>Germany</td>\n",
              "      <td>29780</td>\n",
              "      <td>31960</td>\n",
              "      <td>33692</td>\n",
              "      <td>35984</td>\n",
              "    </tr>\n",
              "    <tr>\n",
              "      <th>16</th>\n",
              "      <td>Greece</td>\n",
              "      <td>93.29</td>\n",
              "      <td>92.60</td>\n",
              "      <td>91.11</td>\n",
              "      <td>Greece</td>\n",
              "      <td>31234</td>\n",
              "      <td>33224</td>\n",
              "      <td>35690</td>\n",
              "      <td>37459</td>\n",
              "    </tr>\n",
              "    <tr>\n",
              "      <th>17</th>\n",
              "      <td>Hungary</td>\n",
              "      <td>95.49</td>\n",
              "      <td>94.30</td>\n",
              "      <td>95.10</td>\n",
              "      <td>Hungary</td>\n",
              "      <td>31281</td>\n",
              "      <td>33181</td>\n",
              "      <td>36300</td>\n",
              "      <td>38659</td>\n",
              "    </tr>\n",
              "    <tr>\n",
              "      <th>18</th>\n",
              "      <td>India</td>\n",
              "      <td>83.69</td>\n",
              "      <td>84.10</td>\n",
              "      <td>82.40</td>\n",
              "      <td>India</td>\n",
              "      <td>41065</td>\n",
              "      <td>42465</td>\n",
              "      <td>44590</td>\n",
              "      <td>44963</td>\n",
              "    </tr>\n",
              "    <tr>\n",
              "      <th>19</th>\n",
              "      <td>Ireland</td>\n",
              "      <td>93.83</td>\n",
              "      <td>93.50</td>\n",
              "      <td>92.80</td>\n",
              "      <td>Ireland</td>\n",
              "      <td>28901</td>\n",
              "      <td>30701</td>\n",
              "      <td>32601</td>\n",
              "      <td>33695</td>\n",
              "    </tr>\n",
              "    <tr>\n",
              "      <th>20</th>\n",
              "      <td>Japan</td>\n",
              "      <td>98.14</td>\n",
              "      <td>97.20</td>\n",
              "      <td>95.80</td>\n",
              "      <td>Japan</td>\n",
              "      <td>29972</td>\n",
              "      <td>32982</td>\n",
              "      <td>34900</td>\n",
              "      <td>36920</td>\n",
              "    </tr>\n",
              "    <tr>\n",
              "      <th>21</th>\n",
              "      <td>Liechtenstein</td>\n",
              "      <td>98.27</td>\n",
              "      <td>98.10</td>\n",
              "      <td>97.80</td>\n",
              "      <td>Liechtenstein</td>\n",
              "      <td>27401</td>\n",
              "      <td>29501</td>\n",
              "      <td>33510</td>\n",
              "      <td>33590</td>\n",
              "    </tr>\n",
              "    <tr>\n",
              "      <th>22</th>\n",
              "      <td>Malta</td>\n",
              "      <td>92.22</td>\n",
              "      <td>90.20</td>\n",
              "      <td>87.20</td>\n",
              "      <td>Malta</td>\n",
              "      <td>38766</td>\n",
              "      <td>41366</td>\n",
              "      <td>43266</td>\n",
              "      <td>45890</td>\n",
              "    </tr>\n",
              "    <tr>\n",
              "      <th>23</th>\n",
              "      <td>Mexico</td>\n",
              "      <td>86.83</td>\n",
              "      <td>86.30</td>\n",
              "      <td>85.90</td>\n",
              "      <td>Mexico</td>\n",
              "      <td>31325</td>\n",
              "      <td>33312</td>\n",
              "      <td>35225</td>\n",
              "      <td>37850</td>\n",
              "    </tr>\n",
              "    <tr>\n",
              "      <th>24</th>\n",
              "      <td>Peru</td>\n",
              "      <td>24.44</td>\n",
              "      <td>24.30</td>\n",
              "      <td>24.21</td>\n",
              "      <td>Peru</td>\n",
              "      <td>51092</td>\n",
              "      <td>53000</td>\n",
              "      <td>55092</td>\n",
              "      <td>57850</td>\n",
              "    </tr>\n",
              "    <tr>\n",
              "      <th>25</th>\n",
              "      <td>Poland</td>\n",
              "      <td>96.01</td>\n",
              "      <td>94.20</td>\n",
              "      <td>95.60</td>\n",
              "      <td>Poland</td>\n",
              "      <td>35799</td>\n",
              "      <td>37549</td>\n",
              "      <td>37829</td>\n",
              "      <td>38920</td>\n",
              "    </tr>\n",
              "    <tr>\n",
              "      <th>26</th>\n",
              "      <td>Romania</td>\n",
              "      <td>89.34</td>\n",
              "      <td>87.30</td>\n",
              "      <td>86.90</td>\n",
              "      <td>Romania</td>\n",
              "      <td>30951</td>\n",
              "      <td>32251</td>\n",
              "      <td>33651</td>\n",
              "      <td>35980</td>\n",
              "    </tr>\n",
              "    <tr>\n",
              "      <th>27</th>\n",
              "      <td>Senegal</td>\n",
              "      <td>75.00</td>\n",
              "      <td>75.20</td>\n",
              "      <td>75.30</td>\n",
              "      <td>Senegal</td>\n",
              "      <td>30839</td>\n",
              "      <td>32939</td>\n",
              "      <td>35339</td>\n",
              "      <td>37150</td>\n",
              "    </tr>\n",
              "    <tr>\n",
              "      <th>28</th>\n",
              "      <td>Singapore</td>\n",
              "      <td>99.85</td>\n",
              "      <td>99.80</td>\n",
              "      <td>98.50</td>\n",
              "      <td>Singapore</td>\n",
              "      <td>21012</td>\n",
              "      <td>24120</td>\n",
              "      <td>24112</td>\n",
              "      <td>26200</td>\n",
              "    </tr>\n",
              "    <tr>\n",
              "      <th>29</th>\n",
              "      <td>South Africa</td>\n",
              "      <td>75.00</td>\n",
              "      <td>74.60</td>\n",
              "      <td>73.00</td>\n",
              "      <td>South Africa</td>\n",
              "      <td>42756</td>\n",
              "      <td>43986</td>\n",
              "      <td>45130</td>\n",
              "      <td>48250</td>\n",
              "    </tr>\n",
              "    <tr>\n",
              "      <th>30</th>\n",
              "      <td>Sweden</td>\n",
              "      <td>95.33</td>\n",
              "      <td>95.36</td>\n",
              "      <td>96.50</td>\n",
              "      <td>Sweden</td>\n",
              "      <td>32004</td>\n",
              "      <td>34104</td>\n",
              "      <td>35920</td>\n",
              "      <td>36950</td>\n",
              "    </tr>\n",
              "    <tr>\n",
              "      <th>31</th>\n",
              "      <td>Thailand</td>\n",
              "      <td>79.56</td>\n",
              "      <td>77.99</td>\n",
              "      <td>76.99</td>\n",
              "      <td>Thailand</td>\n",
              "      <td>44226</td>\n",
              "      <td>46286</td>\n",
              "      <td>48100</td>\n",
              "      <td>50630</td>\n",
              "    </tr>\n",
              "    <tr>\n",
              "      <th>32</th>\n",
              "      <td>Turkey</td>\n",
              "      <td>94.97</td>\n",
              "      <td>94.85</td>\n",
              "      <td>93.65</td>\n",
              "      <td>Turkey</td>\n",
              "      <td>28003</td>\n",
              "      <td>30103</td>\n",
              "      <td>31542</td>\n",
              "      <td>33690</td>\n",
              "    </tr>\n",
              "    <tr>\n",
              "      <th>33</th>\n",
              "      <td>United Kingdom</td>\n",
              "      <td>96.50</td>\n",
              "      <td>94.60</td>\n",
              "      <td>94.20</td>\n",
              "      <td>United Kingdom</td>\n",
              "      <td>29516</td>\n",
              "      <td>31616</td>\n",
              "      <td>32816</td>\n",
              "      <td>33650</td>\n",
              "    </tr>\n",
              "  </tbody>\n",
              "</table>\n",
              "</div>\n",
              "      <button class=\"colab-df-convert\" onclick=\"convertToInteractive('df-1db6fde9-9202-4910-a4e4-2915d9241240')\"\n",
              "              title=\"Convert this dataframe to an interactive table.\"\n",
              "              style=\"display:none;\">\n",
              "        \n",
              "  <svg xmlns=\"http://www.w3.org/2000/svg\" height=\"24px\"viewBox=\"0 0 24 24\"\n",
              "       width=\"24px\">\n",
              "    <path d=\"M0 0h24v24H0V0z\" fill=\"none\"/>\n",
              "    <path d=\"M18.56 5.44l.94 2.06.94-2.06 2.06-.94-2.06-.94-.94-2.06-.94 2.06-2.06.94zm-11 1L8.5 8.5l.94-2.06 2.06-.94-2.06-.94L8.5 2.5l-.94 2.06-2.06.94zm10 10l.94 2.06.94-2.06 2.06-.94-2.06-.94-.94-2.06-.94 2.06-2.06.94z\"/><path d=\"M17.41 7.96l-1.37-1.37c-.4-.4-.92-.59-1.43-.59-.52 0-1.04.2-1.43.59L10.3 9.45l-7.72 7.72c-.78.78-.78 2.05 0 2.83L4 21.41c.39.39.9.59 1.41.59.51 0 1.02-.2 1.41-.59l7.78-7.78 2.81-2.81c.8-.78.8-2.07 0-2.86zM5.41 20L4 18.59l7.72-7.72 1.47 1.35L5.41 20z\"/>\n",
              "  </svg>\n",
              "      </button>\n",
              "      \n",
              "  <style>\n",
              "    .colab-df-container {\n",
              "      display:flex;\n",
              "      flex-wrap:wrap;\n",
              "      gap: 12px;\n",
              "    }\n",
              "\n",
              "    .colab-df-convert {\n",
              "      background-color: #E8F0FE;\n",
              "      border: none;\n",
              "      border-radius: 50%;\n",
              "      cursor: pointer;\n",
              "      display: none;\n",
              "      fill: #1967D2;\n",
              "      height: 32px;\n",
              "      padding: 0 0 0 0;\n",
              "      width: 32px;\n",
              "    }\n",
              "\n",
              "    .colab-df-convert:hover {\n",
              "      background-color: #E2EBFA;\n",
              "      box-shadow: 0px 1px 2px rgba(60, 64, 67, 0.3), 0px 1px 3px 1px rgba(60, 64, 67, 0.15);\n",
              "      fill: #174EA6;\n",
              "    }\n",
              "\n",
              "    [theme=dark] .colab-df-convert {\n",
              "      background-color: #3B4455;\n",
              "      fill: #D2E3FC;\n",
              "    }\n",
              "\n",
              "    [theme=dark] .colab-df-convert:hover {\n",
              "      background-color: #434B5C;\n",
              "      box-shadow: 0px 1px 3px 1px rgba(0, 0, 0, 0.15);\n",
              "      filter: drop-shadow(0px 1px 2px rgba(0, 0, 0, 0.3));\n",
              "      fill: #FFFFFF;\n",
              "    }\n",
              "  </style>\n",
              "\n",
              "      <script>\n",
              "        const buttonEl =\n",
              "          document.querySelector('#df-1db6fde9-9202-4910-a4e4-2915d9241240 button.colab-df-convert');\n",
              "        buttonEl.style.display =\n",
              "          google.colab.kernel.accessAllowed ? 'block' : 'none';\n",
              "\n",
              "        async function convertToInteractive(key) {\n",
              "          const element = document.querySelector('#df-1db6fde9-9202-4910-a4e4-2915d9241240');\n",
              "          const dataTable =\n",
              "            await google.colab.kernel.invokeFunction('convertToInteractive',\n",
              "                                                     [key], {});\n",
              "          if (!dataTable) return;\n",
              "\n",
              "          const docLinkHtml = 'Like what you see? Visit the ' +\n",
              "            '<a target=\"_blank\" href=https://colab.research.google.com/notebooks/data_table.ipynb>data table notebook</a>'\n",
              "            + ' to learn more about interactive tables.';\n",
              "          element.innerHTML = '';\n",
              "          dataTable['output_type'] = 'display_data';\n",
              "          await google.colab.output.renderOutput(dataTable, element);\n",
              "          const docLink = document.createElement('div');\n",
              "          docLink.innerHTML = docLinkHtml;\n",
              "          element.appendChild(docLink);\n",
              "        }\n",
              "      </script>\n",
              "    </div>\n",
              "  </div>\n",
              "  "
            ],
            "text/plain": [
              "      Country_Name  NO2_2020  NO2_2021  NO2_2022    Country_name  Sales_2020  \\\n",
              "0        Argentina     91.67     89.40     88.30       Argentina       22090   \n",
              "1        Australia     65.48     65.70     66.10       Australia       43844   \n",
              "2          Austria     94.47     92.10     90.50         Austria       22090   \n",
              "3          Belgium     95.20     95.40     93.90         Belgium       34903   \n",
              "4           Brazil     91.08     89.50     88.90          Brazil       31673   \n",
              "5           Canada     96.95     95.40     95.20          Canada       26833   \n",
              "6            Chile     92.85     90.54     90.60           Chile       25440   \n",
              "7         Colombia     72.29     73.40     71.10        Colombia       19843   \n",
              "8       Costa Rica    100.00     98.39     95.20      Costa Rica       18452   \n",
              "9          Croatia     91.75     91.75     88.20         Croatia       39780   \n",
              "10          Cyprus     97.53     96.50     95.66          Cyprus       31200   \n",
              "11         Denmark     92.50     89.35     88.70         Denmark       31881   \n",
              "12         Estonia     98.77     97.40     97.10         Estonia       29530   \n",
              "13         Finland     97.40     95.30     96.10         Finland       30522   \n",
              "14          France     97.36     96.20     94.30          France       30566   \n",
              "15         Germany     97.45     97.45     97.22         Germany       29780   \n",
              "16          Greece     93.29     92.60     91.11          Greece       31234   \n",
              "17         Hungary     95.49     94.30     95.10         Hungary       31281   \n",
              "18           India     83.69     84.10     82.40           India       41065   \n",
              "19         Ireland     93.83     93.50     92.80         Ireland       28901   \n",
              "20           Japan     98.14     97.20     95.80           Japan       29972   \n",
              "21   Liechtenstein     98.27     98.10     97.80   Liechtenstein       27401   \n",
              "22           Malta     92.22     90.20     87.20           Malta       38766   \n",
              "23          Mexico     86.83     86.30     85.90          Mexico       31325   \n",
              "24            Peru     24.44     24.30     24.21            Peru       51092   \n",
              "25          Poland     96.01     94.20     95.60          Poland       35799   \n",
              "26         Romania     89.34     87.30     86.90         Romania       30951   \n",
              "27         Senegal     75.00     75.20     75.30         Senegal       30839   \n",
              "28       Singapore     99.85     99.80     98.50       Singapore       21012   \n",
              "29    South Africa     75.00     74.60     73.00    South Africa       42756   \n",
              "30          Sweden     95.33     95.36     96.50          Sweden       32004   \n",
              "31        Thailand     79.56     77.99     76.99        Thailand       44226   \n",
              "32          Turkey     94.97     94.85     93.65          Turkey       28003   \n",
              "33  United Kingdom     96.50     94.60     94.20  United Kingdom       29516   \n",
              "\n",
              "    Sales_2021  Sales_2022  Sales_2023  \n",
              "0        23980       25480       26935  \n",
              "1        45984       48900       50690  \n",
              "2        24120       26090       26890  \n",
              "3        36603       38903       40520  \n",
              "4        33473       35673       36590  \n",
              "5        28821       30159       32584  \n",
              "6        26640       27200       29635  \n",
              "7        21846       23843       23987  \n",
              "8        20452       23843       25369  \n",
              "9        42280       45900       47152  \n",
              "10       33200       34850       35920  \n",
              "11       33581       35281       36920  \n",
              "12       32530       34230       37890  \n",
              "13       32722       35260       37560  \n",
              "14       32362       34960       36589  \n",
              "15       31960       33692       35984  \n",
              "16       33224       35690       37459  \n",
              "17       33181       36300       38659  \n",
              "18       42465       44590       44963  \n",
              "19       30701       32601       33695  \n",
              "20       32982       34900       36920  \n",
              "21       29501       33510       33590  \n",
              "22       41366       43266       45890  \n",
              "23       33312       35225       37850  \n",
              "24       53000       55092       57850  \n",
              "25       37549       37829       38920  \n",
              "26       32251       33651       35980  \n",
              "27       32939       35339       37150  \n",
              "28       24120       24112       26200  \n",
              "29       43986       45130       48250  \n",
              "30       34104       35920       36950  \n",
              "31       46286       48100       50630  \n",
              "32       30103       31542       33690  \n",
              "33       31616       32816       33650  "
            ]
          },
          "execution_count": 54,
          "metadata": {},
          "output_type": "execute_result"
        }
      ],
      "source": [
        "#Combinamos los dos datasets en uno\n",
        "\n",
        "df_final = df_no2.merge(df_sales,left_on='Country_Name', right_on='Country_name',how='inner',suffixes=('_x', '_y'))\n",
        "df_final"
      ]
    },
    {
      "cell_type": "code",
      "execution_count": null,
      "metadata": {
        "colab": {
          "base_uri": "https://localhost:8080/",
          "height": 1000
        },
        "id": "25K8mO-n-S7L",
        "outputId": "44f2c68e-b2ef-479d-af5d-04532fb298a8"
      },
      "outputs": [
        {
          "data": {
            "text/html": [
              "\n",
              "  <div id=\"df-e2cc51cd-559f-408d-9725-09a47934f451\">\n",
              "    <div class=\"colab-df-container\">\n",
              "      <div>\n",
              "<style scoped>\n",
              "    .dataframe tbody tr th:only-of-type {\n",
              "        vertical-align: middle;\n",
              "    }\n",
              "\n",
              "    .dataframe tbody tr th {\n",
              "        vertical-align: top;\n",
              "    }\n",
              "\n",
              "    .dataframe thead th {\n",
              "        text-align: right;\n",
              "    }\n",
              "</style>\n",
              "<table border=\"1\" class=\"dataframe\">\n",
              "  <thead>\n",
              "    <tr style=\"text-align: right;\">\n",
              "      <th></th>\n",
              "      <th>Country_Name</th>\n",
              "      <th>NO2_2020</th>\n",
              "      <th>NO2_2021</th>\n",
              "      <th>NO2_2022</th>\n",
              "      <th>Sales_2020</th>\n",
              "      <th>Sales_2021</th>\n",
              "      <th>Sales_2022</th>\n",
              "      <th>Sales_2023</th>\n",
              "    </tr>\n",
              "  </thead>\n",
              "  <tbody>\n",
              "    <tr>\n",
              "      <th>0</th>\n",
              "      <td>Argentina</td>\n",
              "      <td>91.67</td>\n",
              "      <td>89.40</td>\n",
              "      <td>88.30</td>\n",
              "      <td>22090</td>\n",
              "      <td>23980</td>\n",
              "      <td>25480</td>\n",
              "      <td>26935</td>\n",
              "    </tr>\n",
              "    <tr>\n",
              "      <th>1</th>\n",
              "      <td>Australia</td>\n",
              "      <td>65.48</td>\n",
              "      <td>65.70</td>\n",
              "      <td>66.10</td>\n",
              "      <td>43844</td>\n",
              "      <td>45984</td>\n",
              "      <td>48900</td>\n",
              "      <td>50690</td>\n",
              "    </tr>\n",
              "    <tr>\n",
              "      <th>2</th>\n",
              "      <td>Austria</td>\n",
              "      <td>94.47</td>\n",
              "      <td>92.10</td>\n",
              "      <td>90.50</td>\n",
              "      <td>22090</td>\n",
              "      <td>24120</td>\n",
              "      <td>26090</td>\n",
              "      <td>26890</td>\n",
              "    </tr>\n",
              "    <tr>\n",
              "      <th>3</th>\n",
              "      <td>Belgium</td>\n",
              "      <td>95.20</td>\n",
              "      <td>95.40</td>\n",
              "      <td>93.90</td>\n",
              "      <td>34903</td>\n",
              "      <td>36603</td>\n",
              "      <td>38903</td>\n",
              "      <td>40520</td>\n",
              "    </tr>\n",
              "    <tr>\n",
              "      <th>4</th>\n",
              "      <td>Brazil</td>\n",
              "      <td>91.08</td>\n",
              "      <td>89.50</td>\n",
              "      <td>88.90</td>\n",
              "      <td>31673</td>\n",
              "      <td>33473</td>\n",
              "      <td>35673</td>\n",
              "      <td>36590</td>\n",
              "    </tr>\n",
              "    <tr>\n",
              "      <th>5</th>\n",
              "      <td>Canada</td>\n",
              "      <td>96.95</td>\n",
              "      <td>95.40</td>\n",
              "      <td>95.20</td>\n",
              "      <td>26833</td>\n",
              "      <td>28821</td>\n",
              "      <td>30159</td>\n",
              "      <td>32584</td>\n",
              "    </tr>\n",
              "    <tr>\n",
              "      <th>6</th>\n",
              "      <td>Chile</td>\n",
              "      <td>92.85</td>\n",
              "      <td>90.54</td>\n",
              "      <td>90.60</td>\n",
              "      <td>25440</td>\n",
              "      <td>26640</td>\n",
              "      <td>27200</td>\n",
              "      <td>29635</td>\n",
              "    </tr>\n",
              "    <tr>\n",
              "      <th>7</th>\n",
              "      <td>Colombia</td>\n",
              "      <td>72.29</td>\n",
              "      <td>73.40</td>\n",
              "      <td>71.10</td>\n",
              "      <td>19843</td>\n",
              "      <td>21846</td>\n",
              "      <td>23843</td>\n",
              "      <td>23987</td>\n",
              "    </tr>\n",
              "    <tr>\n",
              "      <th>8</th>\n",
              "      <td>Costa Rica</td>\n",
              "      <td>100.00</td>\n",
              "      <td>98.39</td>\n",
              "      <td>95.20</td>\n",
              "      <td>18452</td>\n",
              "      <td>20452</td>\n",
              "      <td>23843</td>\n",
              "      <td>25369</td>\n",
              "    </tr>\n",
              "    <tr>\n",
              "      <th>9</th>\n",
              "      <td>Croatia</td>\n",
              "      <td>91.75</td>\n",
              "      <td>91.75</td>\n",
              "      <td>88.20</td>\n",
              "      <td>39780</td>\n",
              "      <td>42280</td>\n",
              "      <td>45900</td>\n",
              "      <td>47152</td>\n",
              "    </tr>\n",
              "    <tr>\n",
              "      <th>10</th>\n",
              "      <td>Cyprus</td>\n",
              "      <td>97.53</td>\n",
              "      <td>96.50</td>\n",
              "      <td>95.66</td>\n",
              "      <td>31200</td>\n",
              "      <td>33200</td>\n",
              "      <td>34850</td>\n",
              "      <td>35920</td>\n",
              "    </tr>\n",
              "    <tr>\n",
              "      <th>11</th>\n",
              "      <td>Denmark</td>\n",
              "      <td>92.50</td>\n",
              "      <td>89.35</td>\n",
              "      <td>88.70</td>\n",
              "      <td>31881</td>\n",
              "      <td>33581</td>\n",
              "      <td>35281</td>\n",
              "      <td>36920</td>\n",
              "    </tr>\n",
              "    <tr>\n",
              "      <th>12</th>\n",
              "      <td>Estonia</td>\n",
              "      <td>98.77</td>\n",
              "      <td>97.40</td>\n",
              "      <td>97.10</td>\n",
              "      <td>29530</td>\n",
              "      <td>32530</td>\n",
              "      <td>34230</td>\n",
              "      <td>37890</td>\n",
              "    </tr>\n",
              "    <tr>\n",
              "      <th>13</th>\n",
              "      <td>Finland</td>\n",
              "      <td>97.40</td>\n",
              "      <td>95.30</td>\n",
              "      <td>96.10</td>\n",
              "      <td>30522</td>\n",
              "      <td>32722</td>\n",
              "      <td>35260</td>\n",
              "      <td>37560</td>\n",
              "    </tr>\n",
              "    <tr>\n",
              "      <th>14</th>\n",
              "      <td>France</td>\n",
              "      <td>97.36</td>\n",
              "      <td>96.20</td>\n",
              "      <td>94.30</td>\n",
              "      <td>30566</td>\n",
              "      <td>32362</td>\n",
              "      <td>34960</td>\n",
              "      <td>36589</td>\n",
              "    </tr>\n",
              "    <tr>\n",
              "      <th>15</th>\n",
              "      <td>Germany</td>\n",
              "      <td>97.45</td>\n",
              "      <td>97.45</td>\n",
              "      <td>97.22</td>\n",
              "      <td>29780</td>\n",
              "      <td>31960</td>\n",
              "      <td>33692</td>\n",
              "      <td>35984</td>\n",
              "    </tr>\n",
              "    <tr>\n",
              "      <th>16</th>\n",
              "      <td>Greece</td>\n",
              "      <td>93.29</td>\n",
              "      <td>92.60</td>\n",
              "      <td>91.11</td>\n",
              "      <td>31234</td>\n",
              "      <td>33224</td>\n",
              "      <td>35690</td>\n",
              "      <td>37459</td>\n",
              "    </tr>\n",
              "    <tr>\n",
              "      <th>17</th>\n",
              "      <td>Hungary</td>\n",
              "      <td>95.49</td>\n",
              "      <td>94.30</td>\n",
              "      <td>95.10</td>\n",
              "      <td>31281</td>\n",
              "      <td>33181</td>\n",
              "      <td>36300</td>\n",
              "      <td>38659</td>\n",
              "    </tr>\n",
              "    <tr>\n",
              "      <th>18</th>\n",
              "      <td>India</td>\n",
              "      <td>83.69</td>\n",
              "      <td>84.10</td>\n",
              "      <td>82.40</td>\n",
              "      <td>41065</td>\n",
              "      <td>42465</td>\n",
              "      <td>44590</td>\n",
              "      <td>44963</td>\n",
              "    </tr>\n",
              "    <tr>\n",
              "      <th>19</th>\n",
              "      <td>Ireland</td>\n",
              "      <td>93.83</td>\n",
              "      <td>93.50</td>\n",
              "      <td>92.80</td>\n",
              "      <td>28901</td>\n",
              "      <td>30701</td>\n",
              "      <td>32601</td>\n",
              "      <td>33695</td>\n",
              "    </tr>\n",
              "    <tr>\n",
              "      <th>20</th>\n",
              "      <td>Japan</td>\n",
              "      <td>98.14</td>\n",
              "      <td>97.20</td>\n",
              "      <td>95.80</td>\n",
              "      <td>29972</td>\n",
              "      <td>32982</td>\n",
              "      <td>34900</td>\n",
              "      <td>36920</td>\n",
              "    </tr>\n",
              "    <tr>\n",
              "      <th>21</th>\n",
              "      <td>Liechtenstein</td>\n",
              "      <td>98.27</td>\n",
              "      <td>98.10</td>\n",
              "      <td>97.80</td>\n",
              "      <td>27401</td>\n",
              "      <td>29501</td>\n",
              "      <td>33510</td>\n",
              "      <td>33590</td>\n",
              "    </tr>\n",
              "    <tr>\n",
              "      <th>22</th>\n",
              "      <td>Malta</td>\n",
              "      <td>92.22</td>\n",
              "      <td>90.20</td>\n",
              "      <td>87.20</td>\n",
              "      <td>38766</td>\n",
              "      <td>41366</td>\n",
              "      <td>43266</td>\n",
              "      <td>45890</td>\n",
              "    </tr>\n",
              "    <tr>\n",
              "      <th>23</th>\n",
              "      <td>Mexico</td>\n",
              "      <td>86.83</td>\n",
              "      <td>86.30</td>\n",
              "      <td>85.90</td>\n",
              "      <td>31325</td>\n",
              "      <td>33312</td>\n",
              "      <td>35225</td>\n",
              "      <td>37850</td>\n",
              "    </tr>\n",
              "    <tr>\n",
              "      <th>24</th>\n",
              "      <td>Peru</td>\n",
              "      <td>24.44</td>\n",
              "      <td>24.30</td>\n",
              "      <td>24.21</td>\n",
              "      <td>51092</td>\n",
              "      <td>53000</td>\n",
              "      <td>55092</td>\n",
              "      <td>57850</td>\n",
              "    </tr>\n",
              "    <tr>\n",
              "      <th>25</th>\n",
              "      <td>Poland</td>\n",
              "      <td>96.01</td>\n",
              "      <td>94.20</td>\n",
              "      <td>95.60</td>\n",
              "      <td>35799</td>\n",
              "      <td>37549</td>\n",
              "      <td>37829</td>\n",
              "      <td>38920</td>\n",
              "    </tr>\n",
              "    <tr>\n",
              "      <th>26</th>\n",
              "      <td>Romania</td>\n",
              "      <td>89.34</td>\n",
              "      <td>87.30</td>\n",
              "      <td>86.90</td>\n",
              "      <td>30951</td>\n",
              "      <td>32251</td>\n",
              "      <td>33651</td>\n",
              "      <td>35980</td>\n",
              "    </tr>\n",
              "    <tr>\n",
              "      <th>27</th>\n",
              "      <td>Senegal</td>\n",
              "      <td>75.00</td>\n",
              "      <td>75.20</td>\n",
              "      <td>75.30</td>\n",
              "      <td>30839</td>\n",
              "      <td>32939</td>\n",
              "      <td>35339</td>\n",
              "      <td>37150</td>\n",
              "    </tr>\n",
              "    <tr>\n",
              "      <th>28</th>\n",
              "      <td>Singapore</td>\n",
              "      <td>99.85</td>\n",
              "      <td>99.80</td>\n",
              "      <td>98.50</td>\n",
              "      <td>21012</td>\n",
              "      <td>24120</td>\n",
              "      <td>24112</td>\n",
              "      <td>26200</td>\n",
              "    </tr>\n",
              "    <tr>\n",
              "      <th>29</th>\n",
              "      <td>South Africa</td>\n",
              "      <td>75.00</td>\n",
              "      <td>74.60</td>\n",
              "      <td>73.00</td>\n",
              "      <td>42756</td>\n",
              "      <td>43986</td>\n",
              "      <td>45130</td>\n",
              "      <td>48250</td>\n",
              "    </tr>\n",
              "    <tr>\n",
              "      <th>30</th>\n",
              "      <td>Sweden</td>\n",
              "      <td>95.33</td>\n",
              "      <td>95.36</td>\n",
              "      <td>96.50</td>\n",
              "      <td>32004</td>\n",
              "      <td>34104</td>\n",
              "      <td>35920</td>\n",
              "      <td>36950</td>\n",
              "    </tr>\n",
              "    <tr>\n",
              "      <th>31</th>\n",
              "      <td>Thailand</td>\n",
              "      <td>79.56</td>\n",
              "      <td>77.99</td>\n",
              "      <td>76.99</td>\n",
              "      <td>44226</td>\n",
              "      <td>46286</td>\n",
              "      <td>48100</td>\n",
              "      <td>50630</td>\n",
              "    </tr>\n",
              "    <tr>\n",
              "      <th>32</th>\n",
              "      <td>Turkey</td>\n",
              "      <td>94.97</td>\n",
              "      <td>94.85</td>\n",
              "      <td>93.65</td>\n",
              "      <td>28003</td>\n",
              "      <td>30103</td>\n",
              "      <td>31542</td>\n",
              "      <td>33690</td>\n",
              "    </tr>\n",
              "    <tr>\n",
              "      <th>33</th>\n",
              "      <td>United Kingdom</td>\n",
              "      <td>96.50</td>\n",
              "      <td>94.60</td>\n",
              "      <td>94.20</td>\n",
              "      <td>29516</td>\n",
              "      <td>31616</td>\n",
              "      <td>32816</td>\n",
              "      <td>33650</td>\n",
              "    </tr>\n",
              "  </tbody>\n",
              "</table>\n",
              "</div>\n",
              "      <button class=\"colab-df-convert\" onclick=\"convertToInteractive('df-e2cc51cd-559f-408d-9725-09a47934f451')\"\n",
              "              title=\"Convert this dataframe to an interactive table.\"\n",
              "              style=\"display:none;\">\n",
              "        \n",
              "  <svg xmlns=\"http://www.w3.org/2000/svg\" height=\"24px\"viewBox=\"0 0 24 24\"\n",
              "       width=\"24px\">\n",
              "    <path d=\"M0 0h24v24H0V0z\" fill=\"none\"/>\n",
              "    <path d=\"M18.56 5.44l.94 2.06.94-2.06 2.06-.94-2.06-.94-.94-2.06-.94 2.06-2.06.94zm-11 1L8.5 8.5l.94-2.06 2.06-.94-2.06-.94L8.5 2.5l-.94 2.06-2.06.94zm10 10l.94 2.06.94-2.06 2.06-.94-2.06-.94-.94-2.06-.94 2.06-2.06.94z\"/><path d=\"M17.41 7.96l-1.37-1.37c-.4-.4-.92-.59-1.43-.59-.52 0-1.04.2-1.43.59L10.3 9.45l-7.72 7.72c-.78.78-.78 2.05 0 2.83L4 21.41c.39.39.9.59 1.41.59.51 0 1.02-.2 1.41-.59l7.78-7.78 2.81-2.81c.8-.78.8-2.07 0-2.86zM5.41 20L4 18.59l7.72-7.72 1.47 1.35L5.41 20z\"/>\n",
              "  </svg>\n",
              "      </button>\n",
              "      \n",
              "  <style>\n",
              "    .colab-df-container {\n",
              "      display:flex;\n",
              "      flex-wrap:wrap;\n",
              "      gap: 12px;\n",
              "    }\n",
              "\n",
              "    .colab-df-convert {\n",
              "      background-color: #E8F0FE;\n",
              "      border: none;\n",
              "      border-radius: 50%;\n",
              "      cursor: pointer;\n",
              "      display: none;\n",
              "      fill: #1967D2;\n",
              "      height: 32px;\n",
              "      padding: 0 0 0 0;\n",
              "      width: 32px;\n",
              "    }\n",
              "\n",
              "    .colab-df-convert:hover {\n",
              "      background-color: #E2EBFA;\n",
              "      box-shadow: 0px 1px 2px rgba(60, 64, 67, 0.3), 0px 1px 3px 1px rgba(60, 64, 67, 0.15);\n",
              "      fill: #174EA6;\n",
              "    }\n",
              "\n",
              "    [theme=dark] .colab-df-convert {\n",
              "      background-color: #3B4455;\n",
              "      fill: #D2E3FC;\n",
              "    }\n",
              "\n",
              "    [theme=dark] .colab-df-convert:hover {\n",
              "      background-color: #434B5C;\n",
              "      box-shadow: 0px 1px 3px 1px rgba(0, 0, 0, 0.15);\n",
              "      filter: drop-shadow(0px 1px 2px rgba(0, 0, 0, 0.3));\n",
              "      fill: #FFFFFF;\n",
              "    }\n",
              "  </style>\n",
              "\n",
              "      <script>\n",
              "        const buttonEl =\n",
              "          document.querySelector('#df-e2cc51cd-559f-408d-9725-09a47934f451 button.colab-df-convert');\n",
              "        buttonEl.style.display =\n",
              "          google.colab.kernel.accessAllowed ? 'block' : 'none';\n",
              "\n",
              "        async function convertToInteractive(key) {\n",
              "          const element = document.querySelector('#df-e2cc51cd-559f-408d-9725-09a47934f451');\n",
              "          const dataTable =\n",
              "            await google.colab.kernel.invokeFunction('convertToInteractive',\n",
              "                                                     [key], {});\n",
              "          if (!dataTable) return;\n",
              "\n",
              "          const docLinkHtml = 'Like what you see? Visit the ' +\n",
              "            '<a target=\"_blank\" href=https://colab.research.google.com/notebooks/data_table.ipynb>data table notebook</a>'\n",
              "            + ' to learn more about interactive tables.';\n",
              "          element.innerHTML = '';\n",
              "          dataTable['output_type'] = 'display_data';\n",
              "          await google.colab.output.renderOutput(dataTable, element);\n",
              "          const docLink = document.createElement('div');\n",
              "          docLink.innerHTML = docLinkHtml;\n",
              "          element.appendChild(docLink);\n",
              "        }\n",
              "      </script>\n",
              "    </div>\n",
              "  </div>\n",
              "  "
            ],
            "text/plain": [
              "      Country_Name  NO2_2020  NO2_2021  NO2_2022  Sales_2020  Sales_2021  \\\n",
              "0        Argentina     91.67     89.40     88.30       22090       23980   \n",
              "1        Australia     65.48     65.70     66.10       43844       45984   \n",
              "2          Austria     94.47     92.10     90.50       22090       24120   \n",
              "3          Belgium     95.20     95.40     93.90       34903       36603   \n",
              "4           Brazil     91.08     89.50     88.90       31673       33473   \n",
              "5           Canada     96.95     95.40     95.20       26833       28821   \n",
              "6            Chile     92.85     90.54     90.60       25440       26640   \n",
              "7         Colombia     72.29     73.40     71.10       19843       21846   \n",
              "8       Costa Rica    100.00     98.39     95.20       18452       20452   \n",
              "9          Croatia     91.75     91.75     88.20       39780       42280   \n",
              "10          Cyprus     97.53     96.50     95.66       31200       33200   \n",
              "11         Denmark     92.50     89.35     88.70       31881       33581   \n",
              "12         Estonia     98.77     97.40     97.10       29530       32530   \n",
              "13         Finland     97.40     95.30     96.10       30522       32722   \n",
              "14          France     97.36     96.20     94.30       30566       32362   \n",
              "15         Germany     97.45     97.45     97.22       29780       31960   \n",
              "16          Greece     93.29     92.60     91.11       31234       33224   \n",
              "17         Hungary     95.49     94.30     95.10       31281       33181   \n",
              "18           India     83.69     84.10     82.40       41065       42465   \n",
              "19         Ireland     93.83     93.50     92.80       28901       30701   \n",
              "20           Japan     98.14     97.20     95.80       29972       32982   \n",
              "21   Liechtenstein     98.27     98.10     97.80       27401       29501   \n",
              "22           Malta     92.22     90.20     87.20       38766       41366   \n",
              "23          Mexico     86.83     86.30     85.90       31325       33312   \n",
              "24            Peru     24.44     24.30     24.21       51092       53000   \n",
              "25          Poland     96.01     94.20     95.60       35799       37549   \n",
              "26         Romania     89.34     87.30     86.90       30951       32251   \n",
              "27         Senegal     75.00     75.20     75.30       30839       32939   \n",
              "28       Singapore     99.85     99.80     98.50       21012       24120   \n",
              "29    South Africa     75.00     74.60     73.00       42756       43986   \n",
              "30          Sweden     95.33     95.36     96.50       32004       34104   \n",
              "31        Thailand     79.56     77.99     76.99       44226       46286   \n",
              "32          Turkey     94.97     94.85     93.65       28003       30103   \n",
              "33  United Kingdom     96.50     94.60     94.20       29516       31616   \n",
              "\n",
              "    Sales_2022  Sales_2023  \n",
              "0        25480       26935  \n",
              "1        48900       50690  \n",
              "2        26090       26890  \n",
              "3        38903       40520  \n",
              "4        35673       36590  \n",
              "5        30159       32584  \n",
              "6        27200       29635  \n",
              "7        23843       23987  \n",
              "8        23843       25369  \n",
              "9        45900       47152  \n",
              "10       34850       35920  \n",
              "11       35281       36920  \n",
              "12       34230       37890  \n",
              "13       35260       37560  \n",
              "14       34960       36589  \n",
              "15       33692       35984  \n",
              "16       35690       37459  \n",
              "17       36300       38659  \n",
              "18       44590       44963  \n",
              "19       32601       33695  \n",
              "20       34900       36920  \n",
              "21       33510       33590  \n",
              "22       43266       45890  \n",
              "23       35225       37850  \n",
              "24       55092       57850  \n",
              "25       37829       38920  \n",
              "26       33651       35980  \n",
              "27       35339       37150  \n",
              "28       24112       26200  \n",
              "29       45130       48250  \n",
              "30       35920       36950  \n",
              "31       48100       50630  \n",
              "32       31542       33690  \n",
              "33       32816       33650  "
            ]
          },
          "execution_count": 55,
          "metadata": {},
          "output_type": "execute_result"
        }
      ],
      "source": [
        "#eliminamos columna que está de sobra\n",
        "\n",
        "del df_final[\"Country_name\"]\n",
        "df_final\n"
      ]
    },
    {
      "cell_type": "code",
      "execution_count": null,
      "metadata": {
        "colab": {
          "base_uri": "https://localhost:8080/"
        },
        "id": "vMnxoXWR0Q0X",
        "outputId": "27fa368a-acaa-40b6-f0bf-241f82babf1a"
      },
      "outputs": [
        {
          "name": "stdout",
          "output_type": "stream",
          "text": [
            "<class 'pandas.core.frame.DataFrame'>\n",
            "Int64Index: 34 entries, 0 to 33\n",
            "Data columns (total 8 columns):\n",
            " #   Column        Non-Null Count  Dtype  \n",
            "---  ------        --------------  -----  \n",
            " 0   Country_Name  34 non-null     object \n",
            " 1   NO2_2020      34 non-null     float64\n",
            " 2   NO2_2021      34 non-null     float64\n",
            " 3   NO2_2022      34 non-null     float64\n",
            " 4   Sales_2020    34 non-null     int64  \n",
            " 5   Sales_2021    34 non-null     int64  \n",
            " 6   Sales_2022    34 non-null     int64  \n",
            " 7   Sales_2023    34 non-null     int64  \n",
            "dtypes: float64(3), int64(4), object(1)\n",
            "memory usage: 2.4+ KB\n"
          ]
        }
      ],
      "source": [
        "#Analizamos como está compuesto el dataset\n",
        "import matplotlib.pyplot as plt\n",
        "from matplotlib import style\n",
        "import seaborn as sns\n",
        "\n",
        "df_final.info()"
      ]
    },
    {
      "cell_type": "code",
      "execution_count": null,
      "metadata": {
        "colab": {
          "base_uri": "https://localhost:8080/",
          "height": 295
        },
        "id": "fO6mgHeOxulE",
        "outputId": "14ac047c-6159-4d8c-a501-52c2bc39e612"
      },
      "outputs": [
        {
          "data": {
            "image/png": "[encoded data removed]",
            "text/plain": [
              "<Figure size 432x288 with 1 Axes>"
            ]
          },
          "metadata": {},
          "output_type": "display_data"
        }
      ],
      "source": [
        "#Gráfica de la contaminación mundial por año\n",
        "import matplotlib.pyplot as plt\n",
        "\n",
        "#Calculamos los promedios de contaminación por año\n",
        "media2020 = df_final.loc[:,[\"NO2_2020\"]].mean()\n",
        "media2021 = df_final.loc[:,[\"NO2_2021\"]].mean()\n",
        "media2022 = df_final.loc[:,[\"NO2_2022\"]].mean()\n",
        "\n",
        "#Transformamos las variables a int\n",
        "\n",
        "media2020int = int(media2020)\n",
        "media2021int = int(media2021)\n",
        "media2022int = int(media2022)\n",
        "\n",
        "\n",
        "Cantidad = [media2020int,media2021int,media2022int]\n",
        "Años = [2020,2021,2022]\n",
        "\n",
        "New_Colors = ['green','blue','brown']\n",
        "\n",
        "plt.bar(Años,Cantidad,color = New_Colors)\n",
        "plt.title('Contaminación Mundial Anual')\n",
        "plt.xlabel('Año')\n",
        "plt.ylabel('Cantidad de NO2 en %')\n",
        "plt.grid(True)\n",
        "plt.show()\n",
        "\n"
      ]
    },
    {
      "cell_type": "code",
      "execution_count": null,
      "metadata": {
        "colab": {
          "base_uri": "https://localhost:8080/",
          "height": 295
        },
        "id": "3WyGdaZ13Q_y",
        "outputId": "01ec1e03-4cfa-4ad4-c4db-34cb0dcb46ee"
      },
      "outputs": [
        {
          "data": {
            "image/png": "[encoded data removed]",
            "text/plain": [
              "<Figure size 432x288 with 1 Axes>"
            ]
          },
          "metadata": {},
          "output_type": "display_data"
        }
      ],
      "source": [
        "#Gráfica de la producción de autos\n",
        "import matplotlib.pyplot as plt\n",
        "\n",
        "#Sumamos la cantidad de autos\n",
        "autos2020 = df_final.loc[:,[\"Sales_2020\"]].sum()\n",
        "autos2021 = df_final.loc[:,[\"Sales_2021\"]].sum()\n",
        "autos2022 = df_final.loc[:,[\"Sales_2022\"]].sum()\n",
        "\n",
        "#Transformamos las variables a int\n",
        "\n",
        "autos2020int = int(autos2020)\n",
        "autos2021int = int(autos2021)\n",
        "autos2022int = int(autos2022)\n",
        "\n",
        "\n",
        "Cantidad = [autos2020int,autos2021int,autos2022int]\n",
        "Años = [2020,2021,2022]\n",
        "\n",
        "New_Colors = ['green','blue','brown']\n",
        "\n",
        "plt.bar(Años,Cantidad,color = New_Colors)\n",
        "plt.title('Producción Mundial de Autos Electricos')\n",
        "plt.xlabel('Año')\n",
        "plt.ylabel('Cantidad de autos Producidos')\n",
        "plt.grid(True)\n",
        "plt.show()"
      ]
    },
    {
      "cell_type": "code",
      "execution_count": null,
      "metadata": {
        "colab": {
          "base_uri": "https://localhost:8080/"
        },
        "id": "nk3fSpFPsBPZ",
        "outputId": "24413f6a-d04e-4b06-c3a3-3a1e336f9178"
      },
      "outputs": [
        {
          "name": "stdout",
          "output_type": "stream",
          "text": [
            "El máximo porcentaje de contaminación del 2020 es:  100.0\n",
            "El máximo porcentaje de contaminación del 2021 es:  99.8\n",
            "El máximo porcentaje de contaminación del 2022 es:  98.5\n"
          ]
        }
      ],
      "source": [
        "#Maximo de Air Pollution por Año\n",
        "\n",
        "max2020 = df_final.loc[:,[\"NO2_2020\"]].max()\n",
        "max_2020 = float(max2020)\n",
        "\n",
        "max2021 = df_final.loc[:,[\"NO2_2021\"]].max()\n",
        "max_2021 = float(max2021)\n",
        "\n",
        "max2022 = df_final.loc[:,[\"NO2_2022\"]].max()\n",
        "max_2022 = float(max2022)\n",
        "\n",
        "print(\"El máximo porcentaje de contaminación del 2020 es: \", max_2020)\n",
        "print(\"El máximo porcentaje de contaminación del 2021 es: \", max_2021)\n",
        "print(\"El máximo porcentaje de contaminación del 2022 es: \", max_2022)"
      ]
    },
    {
      "cell_type": "code",
      "execution_count": null,
      "metadata": {
        "colab": {
          "base_uri": "https://localhost:8080/"
        },
        "id": "kZAisZkRP_jd",
        "outputId": "98d42020-9294-429c-f10b-718fd16ba149"
      },
      "outputs": [
        {
          "name": "stdout",
          "output_type": "stream",
          "text": [
            "La mayor cantidad de ventas del 2020 es:  51092.0\n",
            "La mayor cantidad de ventas del 2021 es:  53000.0\n",
            "La mayor cantidad de ventas del 2022 es:  55092.0\n"
          ]
        }
      ],
      "source": [
        "#Máximo de Ventas por año\n",
        "\n",
        "max2020 = df_final.loc[:,[\"Sales_2020\"]].max()\n",
        "max_2020 = float(max2020)\n",
        "\n",
        "max2021 = df_final.loc[:,[\"Sales_2021\"]].max()\n",
        "max_2021 = float(max2021)\n",
        "\n",
        "max2022 = df_final.loc[:,[\"Sales_2022\"]].max()\n",
        "max_2022 = float(max2022)\n",
        "\n",
        "print(\"La mayor cantidad de ventas del 2020 es: \", max_2020)\n",
        "print(\"La mayor cantidad de ventas del 2021 es: \", max_2021)\n",
        "print(\"La mayor cantidad de ventas del 2022 es: \", max_2022)"
      ]
    },
    {
      "cell_type": "code",
      "execution_count": null,
      "metadata": {
        "colab": {
          "base_uri": "https://localhost:8080/"
        },
        "id": "vS1yV7VhsBMu",
        "outputId": "10b8f5b4-19a6-4716-ef24-8a724b3d42ff"
      },
      "outputs": [
        {
          "name": "stdout",
          "output_type": "stream",
          "text": [
            "Los países con mayor polución en el 2020 son:  ['Costa Rica']\n",
            "El país con mayor polución en el 2021 es:  ['Singapore']\n",
            "El país con mayor polución en el 2022 es:  ['Singapore']\n"
          ]
        }
      ],
      "source": [
        "#Paises más Contaminación\n",
        "\n",
        "max2020 = df_final.loc[:,[\"NO2_2020\"]].max()\n",
        "df1 = df_final.loc[(df_final[\"NO2_2020\"]==100),[\"Country_Name\"]]\n",
        "\n",
        "max2021 = df_final.loc[:,[\"NO2_2021\"]].max()\n",
        "max2021 = float(max2021)\n",
        "df2 = df_final.loc[(df_final[\"NO2_2021\"]==max2021),[\"Country_Name\"]]\n",
        "\n",
        "\n",
        "max2022 = df_final.loc[:,[\"NO2_2022\"]].max()\n",
        "max2022 = float(max2022)\n",
        "df3 = df_final.loc[(df_final[\"NO2_2022\"]==max2022),[\"Country_Name\"]]\n",
        "\n",
        "print(\"Los países con mayor polución en el 2020 son: \",df1['Country_Name'].unique())\n",
        "print(\"El país con mayor polución en el 2021 es: \",df2['Country_Name'].unique())\n",
        "print(\"El país con mayor polución en el 2022 es: \",df3['Country_Name'].unique())"
      ]
    },
    {
      "cell_type": "code",
      "execution_count": null,
      "metadata": {
        "colab": {
          "base_uri": "https://localhost:8080/"
        },
        "id": "h5gynshdRNFC",
        "outputId": "3fe69f20-8041-4c48-d41a-5c4c76b742bb"
      },
      "outputs": [
        {
          "name": "stdout",
          "output_type": "stream",
          "text": [
            "El país con más ventas en el 2020 son:  ['Peru']\n",
            "El país con más ventas en el 2021 es:  ['Peru']\n",
            "El país con más ventas en el 2022 es:  ['Peru']\n"
          ]
        }
      ],
      "source": [
        "#Paises con más Ventas\n",
        "\n",
        "max2020 = df_final.loc[:,[\"Sales_2020\"]].max()\n",
        "max_2020 = float(max2020)\n",
        "df1 = df_final.loc[(df_final[\"Sales_2020\"]==max_2020),[\"Country_Name\"]]\n",
        "\n",
        "max2021 = df_final.loc[:,[\"Sales_2021\"]].max()\n",
        "max_2021 = float(max2021)\n",
        "df2 = df_final.loc[(df_final[\"Sales_2021\"]==max_2021),[\"Country_Name\"]]\n",
        "\n",
        "\n",
        "max2022 = df_final.loc[:,[\"Sales_2022\"]].max()\n",
        "max_2022 = float(max2022)\n",
        "df3 = df_final.loc[(df_final[\"Sales_2022\"]==max_2022),[\"Country_Name\"]]\n",
        "\n",
        "print(\"El país con más ventas en el 2020 son: \",df1['Country_Name'].unique())\n",
        "print(\"El país con más ventas en el 2021 es: \",df2['Country_Name'].unique())\n",
        "print(\"El país con más ventas en el 2022 es: \",df3['Country_Name'].unique())"
      ]
    },
    {
      "cell_type": "code",
      "execution_count": null,
      "metadata": {
        "colab": {
          "base_uri": "https://localhost:8080/"
        },
        "id": "KKB5N2iysBJ4",
        "outputId": "cbad8e22-4559-401b-8090-b6d53f147ad5"
      },
      "outputs": [
        {
          "name": "stdout",
          "output_type": "stream",
          "text": [
            "El mínimo de contaminación del 2020 es:  24.44\n",
            "El mínimo de contaminación del 2021 es:  24.3\n",
            "El mínimo de contaminación del 2022 es:  24.21\n"
          ]
        }
      ],
      "source": [
        "#Minimo de Contaminación por Páis\n",
        "\n",
        "from pandas.core.arrays import string_\n",
        "\n",
        "pd.options.display.max_columns= 500\n",
        "\n",
        "min2020 = df_final.loc[:,[\"NO2_2020\"]].min()\n",
        "min_2020 = float(min2020)\n",
        "\n",
        "min2021 = df_final.loc[:,[\"NO2_2021\"]].min()\n",
        "min_2021 = float(min2021)\n",
        "\n",
        "min2022 = df_final.loc[:,[\"NO2_2022\"]].min()\n",
        "min_2022 = float(min2022)\n",
        "\n",
        "print(\"El mínimo de contaminación del 2020 es: \",min_2020)\n",
        "print(\"El mínimo de contaminación del 2021 es: \",min_2021)\n",
        "print(\"El mínimo de contaminación del 2022 es: \",min_2022)"
      ]
    },
    {
      "cell_type": "code",
      "execution_count": null,
      "metadata": {
        "colab": {
          "base_uri": "https://localhost:8080/"
        },
        "id": "f62BVMLdSevm",
        "outputId": "d29de9aa-242f-4094-a82b-6e08532d3e26"
      },
      "outputs": [
        {
          "name": "stdout",
          "output_type": "stream",
          "text": [
            "El mínimo de ventas del 2020 es:  18452.0\n",
            "El mínimo de ventas del 2021 es:  20452.0\n",
            "El mínimo de ventas del 2022 es:  23843.0\n"
          ]
        }
      ],
      "source": [
        "#Minimo de Ventas por Año\n",
        "\n",
        "min2020 = df_final.loc[:,[\"Sales_2020\"]].min()\n",
        "min_2020 = float(min2020)\n",
        "\n",
        "min2021 = df_final.loc[:,[\"Sales_2021\"]].min()\n",
        "min_2021 = float(min2021)\n",
        "\n",
        "min2022 = df_final.loc[:,[\"Sales_2022\"]].min()\n",
        "min_2022 = float(min2022)\n",
        "\n",
        "print(\"El mínimo de ventas del 2020 es: \",min_2020)\n",
        "print(\"El mínimo de ventas del 2021 es: \",min_2021)\n",
        "print(\"El mínimo de ventas del 2022 es: \",min_2022)"
      ]
    },
    {
      "cell_type": "code",
      "execution_count": null,
      "metadata": {
        "colab": {
          "base_uri": "https://localhost:8080/"
        },
        "id": "xs6J5pbNsBHF",
        "outputId": "dd1d4d22-c2ed-410f-ab52-f8d4f5ff99be"
      },
      "outputs": [
        {
          "name": "stdout",
          "output_type": "stream",
          "text": [
            "El país con menor polución en el 2020 es:  ['Peru']\n",
            "El país con menor polución en el 2021 es:  ['Peru']\n",
            "El país con menor polución en el 2022 es:  ['Peru']\n"
          ]
        }
      ],
      "source": [
        "#País con el minimo de air pollution 2020\n",
        "\n",
        "min2020 = df_final.loc[:,[\"NO2_2020\"]].min()\n",
        "min_2020 = float(min2020)\n",
        "df1 = df_final.loc[(df_final[\"NO2_2020\"]==min_2020),[\"Country_Name\"]]\n",
        "\n",
        "min2021 = df_final.loc[:,[\"NO2_2021\"]].min()\n",
        "min_2021 = float(min2021)\n",
        "df2 = df_final.loc[(df_final[\"NO2_2021\"]==min_2021),[\"Country_Name\"]]\n",
        "\n",
        "min2022 = df_final.loc[:,[\"NO2_2022\"]].min()\n",
        "min_2022 = float(min2022)\n",
        "df3 = df_final.loc[(df_final[\"NO2_2022\"]==min_2022),[\"Country_Name\"]]\n",
        "\n",
        "print(\"El país con menor polución en el 2020 es: \",df1['Country_Name'].unique())\n",
        "print(\"El país con menor polución en el 2021 es: \",df2['Country_Name'].unique())\n",
        "print(\"El país con menor polución en el 2022 es: \",df3['Country_Name'].unique())"
      ]
    },
    {
      "cell_type": "code",
      "execution_count": null,
      "metadata": {
        "colab": {
          "base_uri": "https://localhost:8080/"
        },
        "id": "zq5Y7-CESvMZ",
        "outputId": "1f90eb16-33ce-4ae3-bc72-0aaa4db39b10"
      },
      "outputs": [
        {
          "name": "stdout",
          "output_type": "stream",
          "text": [
            "El país con menos ventas en el 2020 es:  ['Costa Rica']\n",
            "El país con menos ventas en el 2021 es:  ['Costa Rica']\n",
            "El país con menos ventas en el 2022 es:  ['Colombia' 'Costa Rica']\n"
          ]
        }
      ],
      "source": [
        "#Pais con el minimo de Ventas por año\n",
        "\n",
        "min2020 = df_final.loc[:,[\"Sales_2020\"]].min()\n",
        "min_2020 = float(min2020)\n",
        "df1 = df_final.loc[(df_final[\"Sales_2020\"]==min_2020),[\"Country_Name\"]]\n",
        "\n",
        "min2021 = df_final.loc[:,[\"Sales_2021\"]].min()\n",
        "min_2021 = float(min2021)\n",
        "df2 = df_final.loc[(df_final[\"Sales_2021\"]==min_2021),[\"Country_Name\"]]\n",
        "\n",
        "min2022 = df_final.loc[:,[\"Sales_2022\"]].min()\n",
        "min_2022 = float(min2022)\n",
        "df3 = df_final.loc[(df_final[\"Sales_2022\"]==min_2022),[\"Country_Name\"]]\n",
        "\n",
        "print(\"El país con menos ventas en el 2020 es: \",df1['Country_Name'].unique())\n",
        "print(\"El país con menos ventas en el 2021 es: \",df2['Country_Name'].unique())\n",
        "print(\"El país con menos ventas en el 2022 es: \",df3['Country_Name'].unique())"
      ]
    },
    {
      "cell_type": "code",
      "execution_count": null,
      "metadata": {
        "colab": {
          "base_uri": "https://localhost:8080/"
        },
        "id": "yJ0BzQPVfyDg",
        "outputId": "6f7c50fd-3a0d-4b3b-abbf-f83c59a99a0a"
      },
      "outputs": [
        {
          "name": "stdout",
          "output_type": "stream",
          "text": [
            "   NO2_2020\n",
            "0      75.0\n",
            "\n",
            "   NO2_2021\n",
            "0      95.4\n",
            "\n",
            "   NO2_2022\n",
            "0      95.2\n"
          ]
        }
      ],
      "source": [
        "#Moda de la columna NO2 2020\n",
        "mode2020 = df_final.loc[:,[\"NO2_2020\"]].mode()\n",
        "\n",
        "mode2021 = df_final.loc[:,[\"NO2_2021\"]].mode()\n",
        "\n",
        "mode2022 = df_final.loc[:,[\"NO2_2022\"]].mode()\n",
        "\n",
        "print(mode2020)\n",
        "print(\"\")\n",
        "print(mode2021)\n",
        "print(\"\")\n",
        "print(mode2022)"
      ]
    },
    {
      "cell_type": "code",
      "execution_count": null,
      "metadata": {
        "colab": {
          "base_uri": "https://localhost:8080/"
        },
        "id": "9Ggy1vChTGpA",
        "outputId": "b3de032c-ecf7-4624-92e6-5fd427a8187d"
      },
      "outputs": [
        {
          "name": "stdout",
          "output_type": "stream",
          "text": [
            "   Sales_2020\n",
            "0       22090\n",
            "\n",
            "   Sales_2021\n",
            "0       24120\n",
            "\n",
            "   Sales_2022\n",
            "0       23843\n"
          ]
        }
      ],
      "source": [
        "#Moda de Ventas por Año \n",
        "\n",
        "mode2020 = df_final.loc[:,[\"Sales_2020\"]].mode()\n",
        "mode2021 = df_final.loc[:,[\"Sales_2021\"]].mode()\n",
        "mode2022 = df_final.loc[:,[\"Sales_2022\"]].mode()\n",
        "\n",
        "print(mode2020)\n",
        "print(\"\")\n",
        "print(mode2021)\n",
        "print(\"\")\n",
        "print(mode2022)"
      ]
    },
    {
      "cell_type": "code",
      "execution_count": null,
      "metadata": {
        "colab": {
          "base_uri": "https://localhost:8080/"
        },
        "id": "G38yiLBGsBBe",
        "outputId": "ca82a3cc-04d4-4f2d-f9a1-d63759a4e3e3"
      },
      "outputs": [
        {
          "name": "stdout",
          "output_type": "stream",
          "text": [
            "La mediana del 2020 es:  94.15\n",
            "La mediana del 2021 es:  93.05\n",
            "La mediana del 2022 es:  91.955\n"
          ]
        }
      ],
      "source": [
        "#Mediana de la columna NO2 de todos los años\n",
        "\n",
        "mediana2020 = df_final.loc[:,[\"NO2_2020\"]].median()\n",
        "mediana_2020 = float(mediana2020)\n",
        "\n",
        "mediana2021 = df_final.loc[:,[\"NO2_2021\"]].median()\n",
        "mediana_2021 = float(mediana2021)\n",
        "\n",
        "mediana2022 = df_final.loc[:,[\"NO2_2022\"]].median()\n",
        "mediana_2022 = float(mediana2022)\n",
        "\n",
        "print(\"La mediana del 2020 es: \",mediana_2020)\n",
        "print(\"La mediana del 2021 es: \",mediana_2021)\n",
        "print(\"La mediana del 2022 es: \",mediana_2022)"
      ]
    },
    {
      "cell_type": "code",
      "execution_count": null,
      "metadata": {
        "colab": {
          "base_uri": "https://localhost:8080/"
        },
        "id": "NA9lwawlTcz0",
        "outputId": "e136f37b-4836-4573-b396-7bffb69f6ee4"
      },
      "outputs": [
        {
          "name": "stdout",
          "output_type": "stream",
          "text": [
            "La mediana de ventas del 2020 es:  30895.0\n",
            "La mediana de ventas del 2021 es:  32960.5\n",
            "La mediana de ventas del 2022 es:  35092.5\n"
          ]
        }
      ],
      "source": [
        "#Mediana de la columna Ventas de todos los años\n",
        "\n",
        "mediana2020 = df_final.loc[:,[\"Sales_2020\"]].median()\n",
        "mediana_2020 = float(mediana2020)\n",
        "\n",
        "mediana2021 = df_final.loc[:,[\"Sales_2021\"]].median()\n",
        "mediana_2021 = float(mediana2021)\n",
        "\n",
        "mediana2022 = df_final.loc[:,[\"Sales_2022\"]].median()\n",
        "mediana_2022 = float(mediana2022)\n",
        "\n",
        "print(\"La mediana de ventas del 2020 es: \",mediana_2020)\n",
        "print(\"La mediana de ventas del 2021 es: \",mediana_2021)\n",
        "print(\"La mediana de ventas del 2022 es: \",mediana_2022)"
      ]
    },
    {
      "cell_type": "code",
      "execution_count": null,
      "metadata": {
        "colab": {
          "base_uri": "https://localhost:8080/"
        },
        "id": "H6c3iUaRsA-i",
        "outputId": "748ccaaf-7dab-48a2-da89-0f4fca3f7a16"
      },
      "outputs": [
        {
          "name": "stdout",
          "output_type": "stream",
          "text": [
            "La media de NO2 del 2020 es:  89.42676470588235\n",
            "La media de NO2 del 2021 es:  88.47882352941176\n",
            "La media de NO2 del 2022 es:  87.64823529411764\n"
          ]
        }
      ],
      "source": [
        "#Media de la columna N02 por año\n",
        "\n",
        "mean2020 = df_final.loc[:,[\"NO2_2020\"]].mean()\n",
        "mean_2020 = float(mean2020)\n",
        "\n",
        "mean2021 = df_final.loc[:,[\"NO2_2021\"]].mean()\n",
        "mean_2021 = float(mean2021)\n",
        "\n",
        "mean2022 = df_final.loc[:,[\"NO2_2022\"]].mean()\n",
        "mean_2022 = float(mean2022)\n",
        "\n",
        "print(\"La media de NO2 del 2020 es: \",mean_2020)\n",
        "print(\"La media de NO2 del 2021 es: \",mean_2021)\n",
        "print(\"La media de NO2 del 2022 es: \",mean_2022)"
      ]
    },
    {
      "cell_type": "code",
      "execution_count": null,
      "metadata": {
        "colab": {
          "base_uri": "https://localhost:8080/"
        },
        "id": "W9E3vW8RWdmy",
        "outputId": "0a22cc1e-36eb-4e4c-a760-7301f2d45666"
      },
      "outputs": [
        {
          "name": "stdout",
          "output_type": "stream",
          "text": [
            "La media de ventas del 2020 es:  31605.0\n",
            "La media de ventas del 2021 es:  33624.705882352944\n",
            "La media de ventas del 2022 es:  35584.617647058825\n"
          ]
        }
      ],
      "source": [
        "#Media de la columna Ventas por año\n",
        "\n",
        "mean2020 = df_final.loc[:,[\"Sales_2020\"]].mean()\n",
        "mean_2020 = float(mean2020)\n",
        "\n",
        "mean2021 = df_final.loc[:,[\"Sales_2021\"]].mean()\n",
        "mean_2021 = float(mean2021)\n",
        "\n",
        "mean2022 = df_final.loc[:,[\"Sales_2022\"]].mean()\n",
        "mean_2022 = float(mean2022)\n",
        "\n",
        "print(\"La media de ventas del 2020 es: \",mean_2020)\n",
        "print(\"La media de ventas del 2021 es: \",mean_2021)\n",
        "print(\"La media de ventas del 2022 es: \",mean_2022)"
      ]
    },
    {
      "cell_type": "code",
      "execution_count": null,
      "metadata": {
        "colab": {
          "base_uri": "https://localhost:8080/"
        },
        "id": "dLfPAiPAsA7f",
        "outputId": "f8d00362-8785-46ed-92dc-f576120fa44e"
      },
      "outputs": [
        {
          "name": "stdout",
          "output_type": "stream",
          "text": [
            "La Varianza del NO2 del 2020 es:  204.53290739750446\n",
            "La Varianza del NO2 del 2021 es:  195.7190349376114\n",
            "La Varianza del NO2 del 2022 es:  194.26229376114082\n"
          ]
        }
      ],
      "source": [
        "#Varianza de la contaminación por año\n",
        "\n",
        "var2020 = df_final.loc[:,[\"NO2_2020\"]].var()\n",
        "var_2020 = float(var2020)\n",
        "\n",
        "var2021 = df_final.loc[:,[\"NO2_2021\"]].var()\n",
        "var_2021 = float(var2021)\n",
        "\n",
        "var2022 = df_final.loc[:,[\"NO2_2022\"]].var()\n",
        "var_2022 = float(var2022)\n",
        "\n",
        "print(\"La Varianza del NO2 del 2020 es: \",var_2020)\n",
        "print(\"La Varianza del NO2 del 2021 es: \",var_2021)\n",
        "print(\"La Varianza del NO2 del 2022 es: \",var_2022)"
      ]
    },
    {
      "cell_type": "code",
      "execution_count": null,
      "metadata": {
        "colab": {
          "base_uri": "https://localhost:8080/"
        },
        "id": "B7NHIQIuWyjo",
        "outputId": "6768c914-0282-45c0-8820-d1b881d183f8"
      },
      "outputs": [
        {
          "name": "stdout",
          "output_type": "stream",
          "text": [
            "La Varianza de las ventas del 2020 es:  53674700.0\n",
            "La Varianza de las ventas del 2021 es:  52816081.06238858\n",
            "La Varianza de las ventas del 2022 es:  55038914.2433155\n"
          ]
        }
      ],
      "source": [
        "#Varianza de las ventas por año\n",
        "\n",
        "var2020 = df_final.loc[:,[\"Sales_2020\"]].var()\n",
        "var_2020 = float(var2020)\n",
        "\n",
        "var2021 = df_final.loc[:,[\"Sales_2021\"]].var()\n",
        "var_2021 = float(var2021)\n",
        "\n",
        "var2022 = df_final.loc[:,[\"Sales_2022\"]].var()\n",
        "var_2022 = float(var2022)\n",
        "\n",
        "print(\"La Varianza de las ventas del 2020 es: \",var_2020)\n",
        "print(\"La Varianza de las ventas del 2021 es: \",var_2021)\n",
        "print(\"La Varianza de las ventas del 2022 es: \",var_2022)"
      ]
    },
    {
      "cell_type": "code",
      "execution_count": null,
      "metadata": {
        "colab": {
          "base_uri": "https://localhost:8080/"
        },
        "id": "hyjltv10sA4m",
        "outputId": "8f1b7005-2e40-4261-9505-9719e3b829f4"
      },
      "outputs": [
        {
          "name": "stdout",
          "output_type": "stream",
          "text": [
            "La Desviación Estándar del NO2 del 2020 es:  14.301500179963796\n",
            "La Desviación Estándar del NO2 del 2021 es:  13.989961934816385\n",
            "La Desviación Estándar del NO2 del 2022 es:  13.937800894012685\n"
          ]
        }
      ],
      "source": [
        "#Desviacion Estandar del NO2 por año\n",
        "\n",
        "std2020 = df_final.loc[:,[\"NO2_2020\"]].std()\n",
        "std_2020 = float(std2020)\n",
        "\n",
        "std2021 = df_final.loc[:,[\"NO2_2021\"]].std()\n",
        "std_2021 = float(std2021)\n",
        "\n",
        "std2022 = df_final.loc[:,[\"NO2_2022\"]].std()\n",
        "std_2022 = float(std2022)\n",
        "\n",
        "print(\"La Desviación Estándar del NO2 del 2020 es: \",std_2020)\n",
        "print(\"La Desviación Estándar del NO2 del 2021 es: \",std_2021)\n",
        "print(\"La Desviación Estándar del NO2 del 2022 es: \",std_2022)"
      ]
    },
    {
      "cell_type": "code",
      "execution_count": null,
      "metadata": {
        "colab": {
          "base_uri": "https://localhost:8080/"
        },
        "id": "L5SCEifOXLTW",
        "outputId": "7f4b4196-d031-47e1-9382-226a75e0e11f"
      },
      "outputs": [
        {
          "name": "stdout",
          "output_type": "stream",
          "text": [
            "La Desviación Estándar de las Vetnas del 2020 es:  7326.301932080059\n",
            "La Desviación Estándar de las Vetnas del 2021 es:  7267.467307280342\n",
            "La Desviación Estándar de las Vetnas del 2022 es:  7418.821620939238\n"
          ]
        }
      ],
      "source": [
        "#Desviacion Estandar de las Ventas por año\n",
        "\n",
        "std2020 = df_final.loc[:,[\"Sales_2020\"]].std()\n",
        "std_2020 = float(std2020)\n",
        "\n",
        "std2021 = df_final.loc[:,[\"Sales_2021\"]].std()\n",
        "std_2021 = float(std2021)\n",
        "\n",
        "std2022 = df_final.loc[:,[\"Sales_2022\"]].std()\n",
        "std_2022 = float(std2022)\n",
        "\n",
        "print(\"La Desviación Estándar de las Vetnas del 2020 es: \",std_2020)\n",
        "print(\"La Desviación Estándar de las Vetnas del 2021 es: \",std_2021)\n",
        "print(\"La Desviación Estándar de las Vetnas del 2022 es: \",std_2022)"
      ]
    },
    {
      "cell_type": "code",
      "execution_count": null,
      "metadata": {
        "colab": {
          "base_uri": "https://localhost:8080/",
          "height": 338
        },
        "id": "h4fVLSLVGYVI",
        "outputId": "7c0e9e37-091d-4b0f-92fa-1adfb077f055"
      },
      "outputs": [
        {
          "name": "stderr",
          "output_type": "stream",
          "text": [
            "/usr/local/lib/python3.7/dist-packages/seaborn/distributions.py:2619: FutureWarning: `distplot` is a deprecated function and will be removed in a future version. Please adapt your code to use either `displot` (a figure-level function with similar flexibility) or `histplot` (an axes-level function for histograms).\n",
            "  warnings.warn(msg, FutureWarning)\n"
          ]
        },
        {
          "data": {
            "image/png": "[encoded data removed]",
            "text/plain": [
              "<Figure size 432x288 with 1 Axes>"
            ]
          },
          "metadata": {},
          "output_type": "display_data"
        }
      ],
      "source": [
        "#Grafica que muestra la distribución de la contaminación por país en el 2020\n",
        "import seaborn as sns\n",
        "%matplotlib inline\n",
        "\n",
        "sns.distplot(df_final[\"NO2_2020\"], bins = 70)\n",
        "plt.show()\n"
      ]
    },
    {
      "cell_type": "code",
      "execution_count": null,
      "metadata": {
        "colab": {
          "base_uri": "https://localhost:8080/",
          "height": 356
        },
        "id": "4n733pOhqCPF",
        "outputId": "0a54864e-bb50-4769-81cc-7288c8fb6806"
      },
      "outputs": [
        {
          "name": "stderr",
          "output_type": "stream",
          "text": [
            "/usr/local/lib/python3.7/dist-packages/seaborn/distributions.py:2619: FutureWarning: `distplot` is a deprecated function and will be removed in a future version. Please adapt your code to use either `displot` (a figure-level function with similar flexibility) or `histplot` (an axes-level function for histograms).\n",
            "  warnings.warn(msg, FutureWarning)\n"
          ]
        },
        {
          "data": {
            "text/plain": [
              "<matplotlib.axes._subplots.AxesSubplot at 0x7f4fefb212d0>"
            ]
          },
          "execution_count": 78,
          "metadata": {},
          "output_type": "execute_result"
        },
        {
          "data": {
            "image/png": "[encoded data removed]",
            "text/plain": [
              "<Figure size 432x288 with 1 Axes>"
            ]
          },
          "metadata": {},
          "output_type": "display_data"
        }
      ],
      "source": [
        "#Grafica que muestra la distribución de la contaminación en el 2021\n",
        "\n",
        "sns.distplot(df_final[\"NO2_2021\"], bins = 70)"
      ]
    },
    {
      "cell_type": "code",
      "execution_count": null,
      "metadata": {
        "colab": {
          "base_uri": "https://localhost:8080/",
          "height": 356
        },
        "id": "Z2O_T_BSqC3N",
        "outputId": "fb510c66-ce28-414b-edf4-a04242e4a82e"
      },
      "outputs": [
        {
          "name": "stderr",
          "output_type": "stream",
          "text": [
            "/usr/local/lib/python3.7/dist-packages/seaborn/distributions.py:2619: FutureWarning: `distplot` is a deprecated function and will be removed in a future version. Please adapt your code to use either `displot` (a figure-level function with similar flexibility) or `histplot` (an axes-level function for histograms).\n",
            "  warnings.warn(msg, FutureWarning)\n"
          ]
        },
        {
          "data": {
            "text/plain": [
              "<matplotlib.axes._subplots.AxesSubplot at 0x7f4fef974510>"
            ]
          },
          "execution_count": 79,
          "metadata": {},
          "output_type": "execute_result"
        },
        {
          "data": {
            "image/png": "[encoded data removed]",
            "text/plain": [
              "<Figure size 432x288 with 1 Axes>"
            ]
          },
          "metadata": {},
          "output_type": "display_data"
        }
      ],
      "source": [
        "#Grafica que muestra la distribución de la contaminación en el 2022\n",
        "\n",
        "sns.distplot(df_final[\"NO2_2022\"], bins = 70)"
      ]
    },
    {
      "cell_type": "code",
      "execution_count": null,
      "metadata": {
        "colab": {
          "base_uri": "https://localhost:8080/",
          "height": 356
        },
        "id": "SxedmX7Q5cMi",
        "outputId": "b4ab473f-f2bc-4ca8-941c-556ca8b06827"
      },
      "outputs": [
        {
          "name": "stderr",
          "output_type": "stream",
          "text": [
            "/usr/local/lib/python3.7/dist-packages/seaborn/distributions.py:2619: FutureWarning: `distplot` is a deprecated function and will be removed in a future version. Please adapt your code to use either `displot` (a figure-level function with similar flexibility) or `histplot` (an axes-level function for histograms).\n",
            "  warnings.warn(msg, FutureWarning)\n"
          ]
        },
        {
          "data": {
            "text/plain": [
              "<matplotlib.axes._subplots.AxesSubplot at 0x7f4fef821350>"
            ]
          },
          "execution_count": 80,
          "metadata": {},
          "output_type": "execute_result"
        },
        {
          "data": {
            "image/png": "[encoded data removed]",
            "text/plain": [
              "<Figure size 432x288 with 1 Axes>"
            ]
          },
          "metadata": {},
          "output_type": "display_data"
        }
      ],
      "source": [
        "#Grafica que muestra la distribución de las ventas por país en el 2020\n",
        "\n",
        "sns.distplot(df_final[\"Sales_2020\"], bins = 34)"
      ]
    },
    {
      "cell_type": "code",
      "execution_count": null,
      "metadata": {
        "colab": {
          "base_uri": "https://localhost:8080/",
          "height": 356
        },
        "id": "ZUnALQ9fqoqd",
        "outputId": "2cfdcf7d-0c06-4c62-8ce6-5685bf07b4d1"
      },
      "outputs": [
        {
          "name": "stderr",
          "output_type": "stream",
          "text": [
            "/usr/local/lib/python3.7/dist-packages/seaborn/distributions.py:2619: FutureWarning: `distplot` is a deprecated function and will be removed in a future version. Please adapt your code to use either `displot` (a figure-level function with similar flexibility) or `histplot` (an axes-level function for histograms).\n",
            "  warnings.warn(msg, FutureWarning)\n"
          ]
        },
        {
          "data": {
            "text/plain": [
              "<matplotlib.axes._subplots.AxesSubplot at 0x7f4fef9d3e90>"
            ]
          },
          "execution_count": 81,
          "metadata": {},
          "output_type": "execute_result"
        },
        {
          "data": {
            "image/png": "[encoded data removed]",
            "text/plain": [
              "<Figure size 432x288 with 1 Axes>"
            ]
          },
          "metadata": {},
          "output_type": "display_data"
        }
      ],
      "source": [
        "#Grafica que muestra la distribución de las ventas por país en el 2021\n",
        "\n",
        "sns.distplot(df_final[\"Sales_2021\"], bins = 34)"
      ]
    },
    {
      "cell_type": "code",
      "execution_count": null,
      "metadata": {
        "colab": {
          "base_uri": "https://localhost:8080/",
          "height": 356
        },
        "id": "KTbYTdiLqttO",
        "outputId": "bbcbea09-cbc9-4bdb-9a37-ecd3518bd4c8"
      },
      "outputs": [
        {
          "name": "stderr",
          "output_type": "stream",
          "text": [
            "/usr/local/lib/python3.7/dist-packages/seaborn/distributions.py:2619: FutureWarning: `distplot` is a deprecated function and will be removed in a future version. Please adapt your code to use either `displot` (a figure-level function with similar flexibility) or `histplot` (an axes-level function for histograms).\n",
            "  warnings.warn(msg, FutureWarning)\n"
          ]
        },
        {
          "data": {
            "text/plain": [
              "<matplotlib.axes._subplots.AxesSubplot at 0x7f4fef65cb10>"
            ]
          },
          "execution_count": 82,
          "metadata": {},
          "output_type": "execute_result"
        },
        {
          "data": {
            "image/png": "[encoded data removed]",
            "text/plain": [
              "<Figure size 432x288 with 1 Axes>"
            ]
          },
          "metadata": {},
          "output_type": "display_data"
        }
      ],
      "source": [
        "#Grafica que muestra la distribución de las ventas por país en el 2022\n",
        "\n",
        "sns.distplot(df_final[\"Sales_2022\"], bins = 34)"
      ]
    },
    {
      "cell_type": "code",
      "execution_count": null,
      "metadata": {
        "colab": {
          "base_uri": "https://localhost:8080/",
          "height": 460
        },
        "id": "Eh0Lmcjx3XH0",
        "outputId": "f4044523-699e-4812-943d-70440c72fe02"
      },
      "outputs": [
        {
          "data": {
            "text/plain": [
              "<seaborn.axisgrid.JointGrid at 0x7f4fef7d8fd0>"
            ]
          },
          "execution_count": 83,
          "metadata": {},
          "output_type": "execute_result"
        },
        {
          "data": {
            "image/png": "[encoded data removed]",
            "text/plain": [
              "<Figure size 432x432 with 3 Axes>"
            ]
          },
          "metadata": {},
          "output_type": "display_data"
        }
      ],
      "source": [
        "#Regresión lineal de Ventas y Contaminación en el 2020\n",
        "\n",
        "sns.jointplot(x = \"Sales_2020\", y = \"NO2_2020\", data = df_final, kind = \"reg\")"
      ]
    },
    {
      "cell_type": "code",
      "execution_count": null,
      "metadata": {
        "colab": {
          "base_uri": "https://localhost:8080/",
          "height": 460
        },
        "id": "WY5VLjjnq6bn",
        "outputId": "af42b846-5acb-470b-f472-0ab13eaa3f35"
      },
      "outputs": [
        {
          "data": {
            "text/plain": [
              "<seaborn.axisgrid.JointGrid at 0x7f4fefbc7410>"
            ]
          },
          "execution_count": 84,
          "metadata": {},
          "output_type": "execute_result"
        },
        {
          "data": {
            "image/png": "[encoded data removed]",
            "text/plain": [
              "<Figure size 432x432 with 3 Axes>"
            ]
          },
          "metadata": {},
          "output_type": "display_data"
        }
      ],
      "source": [
        "#Regresión lineal de Ventas y Contaminación en el 2021\n",
        "\n",
        "sns.jointplot(x = \"Sales_2021\", y = \"NO2_2021\", data = df_final, kind = \"reg\")"
      ]
    },
    {
      "cell_type": "code",
      "execution_count": null,
      "metadata": {
        "colab": {
          "base_uri": "https://localhost:8080/",
          "height": 460
        },
        "id": "IOxKy5yaq6yp",
        "outputId": "93ab64ab-e955-41fe-f384-4834deb383b4"
      },
      "outputs": [
        {
          "data": {
            "text/plain": [
              "<seaborn.axisgrid.JointGrid at 0x7f4fef5667d0>"
            ]
          },
          "execution_count": 85,
          "metadata": {},
          "output_type": "execute_result"
        },
        {
          "data": {
            "image/png": "[encoded data removed]",
            "text/plain": [
              "<Figure size 432x432 with 3 Axes>"
            ]
          },
          "metadata": {},
          "output_type": "display_data"
        }
      ],
      "source": [
        "#Regresión lineal de Ventas y Contaminación en el 2022\n",
        "\n",
        "sns.jointplot(x = \"Sales_2022\", y = \"NO2_2022\", data = df_final, kind = \"reg\")"
      ]
    },
    {
      "cell_type": "code",
      "execution_count": null,
      "metadata": {
        "colab": {
          "base_uri": "https://localhost:8080/"
        },
        "id": "_QpPFw8wBVwj",
        "outputId": "bb8c4382-622d-45b4-f7ca-84d315baec45"
      },
      "outputs": [
        {
          "data": {
            "text/plain": [
              "-0.6155215530339976"
            ]
          },
          "execution_count": 86,
          "metadata": {},
          "output_type": "execute_result"
        }
      ],
      "source": [
        "#Calculamos el coeficiente de Correlación de Pearson del año 2020\n",
        "\n",
        "df_final[\"Sales_2020\"].corr(df_final[\"NO2_2020\"])"
      ]
    },
    {
      "cell_type": "code",
      "execution_count": null,
      "metadata": {
        "colab": {
          "base_uri": "https://localhost:8080/"
        },
        "id": "YvS2zKgVFZrf",
        "outputId": "c995d312-7ccf-466d-e369-eb677c2396b7"
      },
      "outputs": [
        {
          "data": {
            "text/plain": [
              "-0.6066938486935624"
            ]
          },
          "execution_count": 87,
          "metadata": {},
          "output_type": "execute_result"
        }
      ],
      "source": [
        "#Calculamos el coeficiente de Correlación de Pearson del año 2021\n",
        "\n",
        "df_final[\"Sales_2021\"].corr(df_final[\"NO2_2021\"])"
      ]
    },
    {
      "cell_type": "code",
      "execution_count": null,
      "metadata": {
        "colab": {
          "base_uri": "https://localhost:8080/"
        },
        "id": "dbdYQFRVFhP8",
        "outputId": "53f8792f-a04e-4540-d884-4cd14ec346a6"
      },
      "outputs": [
        {
          "data": {
            "text/plain": [
              "-0.5969275426335539"
            ]
          },
          "execution_count": 88,
          "metadata": {},
          "output_type": "execute_result"
        }
      ],
      "source": [
        "#Calculamos el coeficiente de Correlación de Pearson del año 2022\n",
        "\n",
        "df_final[\"Sales_2022\"].corr(df_final[\"NO2_2022\"])"
      ]
    },
    {
      "cell_type": "code",
      "execution_count": null,
      "metadata": {
        "id": "VknSRP-Twk9K"
      },
      "outputs": [],
      "source": [
        "#Calculamos la Regresión Lineal para poder estimar la contaminación en el 2023"
      ]
    },
    {
      "cell_type": "code",
      "execution_count": null,
      "metadata": {
        "id": "YE5BLSB9wsxp"
      },
      "outputs": [],
      "source": [
        "#Definimos  x / y\n",
        "\n",
        "previo1 = df_final.drop(columns = \"Country_Name\")\n",
        "previo = previo1.drop(columns = \"Sales_2023\")\n",
        "\n",
        "x = previo.drop(columns = \"NO2_2022\")\n",
        "y = previo[\"NO2_2022\"]"
      ]
    },
    {
      "cell_type": "code",
      "execution_count": null,
      "metadata": {
        "id": "h7wzxA1Ewsuc"
      },
      "outputs": [],
      "source": [
        "from sklearn.model_selection import train_test_split\n",
        "x_train, x_test, y_train, y_test = train_test_split(x, y, test_size = 1)"
      ]
    },
    {
      "cell_type": "code",
      "execution_count": null,
      "metadata": {
        "id": "g9WyiYQQwssB"
      },
      "outputs": [],
      "source": [
        "from sklearn.linear_model import LinearRegression\n",
        "lr = LinearRegression()"
      ]
    },
    {
      "cell_type": "code",
      "execution_count": null,
      "metadata": {
        "colab": {
          "base_uri": "https://localhost:8080/"
        },
        "id": "1BcuZnJdwspd",
        "outputId": "f572f884-3067-480b-ee49-1d87b0168d04"
      },
      "outputs": [
        {
          "data": {
            "text/plain": [
              "LinearRegression()"
            ]
          },
          "execution_count": 93,
          "metadata": {},
          "output_type": "execute_result"
        }
      ],
      "source": [
        "lr.fit(x_train, y_train)"
      ]
    },
    {
      "cell_type": "code",
      "execution_count": null,
      "metadata": {
        "colab": {
          "base_uri": "https://localhost:8080/"
        },
        "id": "-1gHZAEVwsnL",
        "outputId": "0d6fb9f6-15ab-4a55-8f6b-0c04596df3d2"
      },
      "outputs": [
        {
          "data": {
            "text/plain": [
              "0.12589684594028938"
            ]
          },
          "execution_count": 94,
          "metadata": {},
          "output_type": "execute_result"
        }
      ],
      "source": [
        "c = lr.intercept_\n",
        "c"
      ]
    },
    {
      "cell_type": "code",
      "execution_count": null,
      "metadata": {
        "colab": {
          "base_uri": "https://localhost:8080/"
        },
        "id": "sXwbbB6IwskY",
        "outputId": "eb89f9cc-ba7f-4a6c-ea5b-eedcdf214cdf"
      },
      "outputs": [
        {
          "data": {
            "text/plain": [
              "array([ 1.03591301e-01,  8.92125688e-01,  2.75337523e-04,  2.30918037e-04,\n",
              "       -4.83232479e-04])"
            ]
          },
          "execution_count": 95,
          "metadata": {},
          "output_type": "execute_result"
        }
      ],
      "source": [
        "m = lr.coef_\n",
        "m"
      ]
    },
    {
      "cell_type": "code",
      "execution_count": null,
      "metadata": {
        "colab": {
          "base_uri": "https://localhost:8080/"
        },
        "id": "Ji1AURIuwshf",
        "outputId": "837c260f-eb65-4ca5-e10c-079e599d19e4"
      },
      "outputs": [
        {
          "data": {
            "text/plain": [
              "array([90.52972858, 94.40378133, 91.42611388, 96.35208468, 72.08298339,\n",
              "       90.01870105, 94.15644228, 88.68500474, 96.0107054 , 86.97136935,\n",
              "       92.55270278, 89.46717716, 94.00156766, 24.0202794 , 88.61817419,\n",
              "       74.00348666, 96.45714062, 77.56637045, 94.08735741, 95.73564296,\n",
              "       94.74747626, 83.38855675, 91.12135645, 74.56903086, 96.54282504,\n",
              "       88.90309147, 64.58207807, 94.35978466, 95.02916585, 94.35728535,\n",
              "       92.87886799, 85.40660185, 99.20706544])"
            ]
          },
          "execution_count": 98,
          "metadata": {},
          "output_type": "execute_result"
        }
      ],
      "source": [
        "#Calculamos la predicción de la contaminación\n",
        "\n",
        "y_pred_train = lr.predict(x_train)\n",
        "y_pred_train"
      ]
    },
    {
      "cell_type": "code",
      "execution_count": null,
      "metadata": {
        "colab": {
          "base_uri": "https://localhost:8080/",
          "height": 279
        },
        "id": "4U3BrIofwsfA",
        "outputId": "74a43ee0-1bda-454d-c2d3-f956d8df0b20"
      },
      "outputs": [
        {
          "data": {
            "image/png": "[encoded data removed]",
            "text/plain": [
              "<Figure size 432x288 with 1 Axes>"
            ]
          },
          "metadata": {},
          "output_type": "display_data"
        }
      ],
      "source": [
        "#Gráfica que muestra la similitud de la contaminación en el 2022 y la estimación de la misma mediante regresión lineal\n",
        "\n",
        "import matplotlib.pyplot as plt\n",
        "plt.scatter(y_train, y_pred_train)\n",
        "plt.xlabel(\"Contaminación 2022\")\n",
        "plt.ylabel(\"Contaminación Predecida\")\n",
        "plt.show()"
      ]
    },
    {
      "cell_type": "code",
      "execution_count": null,
      "metadata": {
        "colab": {
          "base_uri": "https://localhost:8080/"
        },
        "id": "vTBfOeJewscU",
        "outputId": "d9a326e9-abf0-4c2c-ba01-c631b88232ef"
      },
      "outputs": [
        {
          "data": {
            "text/plain": [
              "0.9940512194110382"
            ]
          },
          "execution_count": 100,
          "metadata": {},
          "output_type": "execute_result"
        }
      ],
      "source": [
        "#Valor del punto P\n",
        "from sklearn.metrics import r2_score\n",
        "\n",
        "r2_score(y_train, y_pred_train)"
      ]
    },
    {
      "cell_type": "code",
      "execution_count": null,
      "metadata": {
        "id": "jfkON-TuwsZl"
      },
      "outputs": [],
      "source": [
        "#Comenzamos a predecir la contaminación del 2023"
      ]
    },
    {
      "cell_type": "code",
      "execution_count": null,
      "metadata": {
        "id": "OAl0_QpKwsXF"
      },
      "outputs": [],
      "source": [
        "#Tomamos las variables necesarias del dataset\n",
        "\n",
        "previo1 = df_final.drop(columns = \"Country_Name\")\n",
        "previo = previo1.drop(columns = \"Sales_2020\")\n",
        "x = df_final.drop(columns = \"Country_Name\").values\n",
        "x = previo.drop(columns = \"NO2_2020\").values"
      ]
    },
    {
      "cell_type": "code",
      "execution_count": null,
      "metadata": {
        "colab": {
          "base_uri": "https://localhost:8080/"
        },
        "id": "NJ2C2HznwsUa",
        "outputId": "e214d9e2-0aa7-4e8b-d990-439613f40ea1"
      },
      "outputs": [
        {
          "name": "stderr",
          "output_type": "stream",
          "text": [
            "/usr/local/lib/python3.7/dist-packages/sklearn/base.py:451: UserWarning: X does not have valid feature names, but LinearRegression was fitted with feature names\n",
            "  \"X does not have valid feature names, but\"\n"
          ]
        },
        {
          "data": {
            "text/plain": [
              "array([87.63217595, 65.35931159, 90.07570169, 93.26011274, 88.47972756,\n",
              "       94.09298517, 89.62700826, 71.08913955, 94.12646745, 87.77091489,\n",
              "       95.29418939, 88.06551359, 95.39246925, 94.73297893, 93.52120668,\n",
              "       96.14456871, 90.2878959 , 93.57272412, 82.61034316, 92.29972515,\n",
              "       94.95989074, 97.16711245, 86.46816547, 84.71520479, 23.60115466,\n",
              "       95.43805214, 85.95896841, 74.37069555, 97.88703475, 72.19534329,\n",
              "       95.92373885, 76.27510887, 92.79110237, 93.98597822])"
            ]
          },
          "execution_count": 103,
          "metadata": {},
          "output_type": "execute_result"
        }
      ],
      "source": [
        "#Calculo el NO2 del 2023\n",
        "\n",
        "NO2_2023 = lr.predict(x)\n",
        "NO2_2023"
      ]
    },
    {
      "cell_type": "code",
      "execution_count": null,
      "metadata": {
        "id": "d3hhglwtwsR1"
      },
      "outputs": [],
      "source": [
        "#Convertir el array del NO2 2023 en dataframe\n",
        "\n",
        "df_NO2new = pd.DataFrame(NO2_2023)\n",
        "df_NO2new.columns = [\"NO2_2023\"]"
      ]
    },
    {
      "cell_type": "code",
      "execution_count": null,
      "metadata": {
        "colab": {
          "base_uri": "https://localhost:8080/",
          "height": 1000
        },
        "id": "ssRgiQFUwsPE",
        "outputId": "52b95378-e696-4c23-c08d-f09e8ea336e6"
      },
      "outputs": [
        {
          "data": {
            "text/html": [
              "\n",
              "  <div id=\"df-78e0b209-04f3-46d2-868d-967560ddcaa5\">\n",
              "    <div class=\"colab-df-container\">\n",
              "      <div>\n",
              "<style scoped>\n",
              "    .dataframe tbody tr th:only-of-type {\n",
              "        vertical-align: middle;\n",
              "    }\n",
              "\n",
              "    .dataframe tbody tr th {\n",
              "        vertical-align: top;\n",
              "    }\n",
              "\n",
              "    .dataframe thead th {\n",
              "        text-align: right;\n",
              "    }\n",
              "</style>\n",
              "<table border=\"1\" class=\"dataframe\">\n",
              "  <thead>\n",
              "    <tr style=\"text-align: right;\">\n",
              "      <th></th>\n",
              "      <th>Country_Name</th>\n",
              "      <th>NO2_2020</th>\n",
              "      <th>NO2_2021</th>\n",
              "      <th>NO2_2022</th>\n",
              "      <th>NO2_2023</th>\n",
              "      <th>Sales_2020</th>\n",
              "      <th>Sales_2021</th>\n",
              "      <th>Sales_2022</th>\n",
              "      <th>Sales_2023</th>\n",
              "    </tr>\n",
              "  </thead>\n",
              "  <tbody>\n",
              "    <tr>\n",
              "      <th>0</th>\n",
              "      <td>Argentina</td>\n",
              "      <td>91.67</td>\n",
              "      <td>89.40</td>\n",
              "      <td>88.30</td>\n",
              "      <td>87.632176</td>\n",
              "      <td>22090</td>\n",
              "      <td>23980</td>\n",
              "      <td>25480</td>\n",
              "      <td>26935</td>\n",
              "    </tr>\n",
              "    <tr>\n",
              "      <th>1</th>\n",
              "      <td>Australia</td>\n",
              "      <td>65.48</td>\n",
              "      <td>65.70</td>\n",
              "      <td>66.10</td>\n",
              "      <td>65.359312</td>\n",
              "      <td>43844</td>\n",
              "      <td>45984</td>\n",
              "      <td>48900</td>\n",
              "      <td>50690</td>\n",
              "    </tr>\n",
              "    <tr>\n",
              "      <th>2</th>\n",
              "      <td>Austria</td>\n",
              "      <td>94.47</td>\n",
              "      <td>92.10</td>\n",
              "      <td>90.50</td>\n",
              "      <td>90.075702</td>\n",
              "      <td>22090</td>\n",
              "      <td>24120</td>\n",
              "      <td>26090</td>\n",
              "      <td>26890</td>\n",
              "    </tr>\n",
              "    <tr>\n",
              "      <th>3</th>\n",
              "      <td>Belgium</td>\n",
              "      <td>95.20</td>\n",
              "      <td>95.40</td>\n",
              "      <td>93.90</td>\n",
              "      <td>93.260113</td>\n",
              "      <td>34903</td>\n",
              "      <td>36603</td>\n",
              "      <td>38903</td>\n",
              "      <td>40520</td>\n",
              "    </tr>\n",
              "    <tr>\n",
              "      <th>4</th>\n",
              "      <td>Brazil</td>\n",
              "      <td>91.08</td>\n",
              "      <td>89.50</td>\n",
              "      <td>88.90</td>\n",
              "      <td>88.479728</td>\n",
              "      <td>31673</td>\n",
              "      <td>33473</td>\n",
              "      <td>35673</td>\n",
              "      <td>36590</td>\n",
              "    </tr>\n",
              "    <tr>\n",
              "      <th>5</th>\n",
              "      <td>Canada</td>\n",
              "      <td>96.95</td>\n",
              "      <td>95.40</td>\n",
              "      <td>95.20</td>\n",
              "      <td>94.092985</td>\n",
              "      <td>26833</td>\n",
              "      <td>28821</td>\n",
              "      <td>30159</td>\n",
              "      <td>32584</td>\n",
              "    </tr>\n",
              "    <tr>\n",
              "      <th>6</th>\n",
              "      <td>Chile</td>\n",
              "      <td>92.85</td>\n",
              "      <td>90.54</td>\n",
              "      <td>90.60</td>\n",
              "      <td>89.627008</td>\n",
              "      <td>25440</td>\n",
              "      <td>26640</td>\n",
              "      <td>27200</td>\n",
              "      <td>29635</td>\n",
              "    </tr>\n",
              "    <tr>\n",
              "      <th>7</th>\n",
              "      <td>Colombia</td>\n",
              "      <td>72.29</td>\n",
              "      <td>73.40</td>\n",
              "      <td>71.10</td>\n",
              "      <td>71.089140</td>\n",
              "      <td>19843</td>\n",
              "      <td>21846</td>\n",
              "      <td>23843</td>\n",
              "      <td>23987</td>\n",
              "    </tr>\n",
              "    <tr>\n",
              "      <th>8</th>\n",
              "      <td>Costa Rica</td>\n",
              "      <td>100.00</td>\n",
              "      <td>98.39</td>\n",
              "      <td>95.20</td>\n",
              "      <td>94.126467</td>\n",
              "      <td>18452</td>\n",
              "      <td>20452</td>\n",
              "      <td>23843</td>\n",
              "      <td>25369</td>\n",
              "    </tr>\n",
              "    <tr>\n",
              "      <th>9</th>\n",
              "      <td>Croatia</td>\n",
              "      <td>91.75</td>\n",
              "      <td>91.75</td>\n",
              "      <td>88.20</td>\n",
              "      <td>87.770915</td>\n",
              "      <td>39780</td>\n",
              "      <td>42280</td>\n",
              "      <td>45900</td>\n",
              "      <td>47152</td>\n",
              "    </tr>\n",
              "    <tr>\n",
              "      <th>10</th>\n",
              "      <td>Cyprus</td>\n",
              "      <td>97.53</td>\n",
              "      <td>96.50</td>\n",
              "      <td>95.66</td>\n",
              "      <td>95.294189</td>\n",
              "      <td>31200</td>\n",
              "      <td>33200</td>\n",
              "      <td>34850</td>\n",
              "      <td>35920</td>\n",
              "    </tr>\n",
              "    <tr>\n",
              "      <th>11</th>\n",
              "      <td>Denmark</td>\n",
              "      <td>92.50</td>\n",
              "      <td>89.35</td>\n",
              "      <td>88.70</td>\n",
              "      <td>88.065514</td>\n",
              "      <td>31881</td>\n",
              "      <td>33581</td>\n",
              "      <td>35281</td>\n",
              "      <td>36920</td>\n",
              "    </tr>\n",
              "    <tr>\n",
              "      <th>12</th>\n",
              "      <td>Estonia</td>\n",
              "      <td>98.77</td>\n",
              "      <td>97.40</td>\n",
              "      <td>97.10</td>\n",
              "      <td>95.392469</td>\n",
              "      <td>29530</td>\n",
              "      <td>32530</td>\n",
              "      <td>34230</td>\n",
              "      <td>37890</td>\n",
              "    </tr>\n",
              "    <tr>\n",
              "      <th>13</th>\n",
              "      <td>Finland</td>\n",
              "      <td>97.40</td>\n",
              "      <td>95.30</td>\n",
              "      <td>96.10</td>\n",
              "      <td>94.732979</td>\n",
              "      <td>30522</td>\n",
              "      <td>32722</td>\n",
              "      <td>35260</td>\n",
              "      <td>37560</td>\n",
              "    </tr>\n",
              "    <tr>\n",
              "      <th>14</th>\n",
              "      <td>France</td>\n",
              "      <td>97.36</td>\n",
              "      <td>96.20</td>\n",
              "      <td>94.30</td>\n",
              "      <td>93.521207</td>\n",
              "      <td>30566</td>\n",
              "      <td>32362</td>\n",
              "      <td>34960</td>\n",
              "      <td>36589</td>\n",
              "    </tr>\n",
              "    <tr>\n",
              "      <th>15</th>\n",
              "      <td>Germany</td>\n",
              "      <td>97.45</td>\n",
              "      <td>97.45</td>\n",
              "      <td>97.22</td>\n",
              "      <td>96.144569</td>\n",
              "      <td>29780</td>\n",
              "      <td>31960</td>\n",
              "      <td>33692</td>\n",
              "      <td>35984</td>\n",
              "    </tr>\n",
              "    <tr>\n",
              "      <th>16</th>\n",
              "      <td>Greece</td>\n",
              "      <td>93.29</td>\n",
              "      <td>92.60</td>\n",
              "      <td>91.11</td>\n",
              "      <td>90.287896</td>\n",
              "      <td>31234</td>\n",
              "      <td>33224</td>\n",
              "      <td>35690</td>\n",
              "      <td>37459</td>\n",
              "    </tr>\n",
              "    <tr>\n",
              "      <th>17</th>\n",
              "      <td>Hungary</td>\n",
              "      <td>95.49</td>\n",
              "      <td>94.30</td>\n",
              "      <td>95.10</td>\n",
              "      <td>93.572724</td>\n",
              "      <td>31281</td>\n",
              "      <td>33181</td>\n",
              "      <td>36300</td>\n",
              "      <td>38659</td>\n",
              "    </tr>\n",
              "    <tr>\n",
              "      <th>18</th>\n",
              "      <td>India</td>\n",
              "      <td>83.69</td>\n",
              "      <td>84.10</td>\n",
              "      <td>82.40</td>\n",
              "      <td>82.610343</td>\n",
              "      <td>41065</td>\n",
              "      <td>42465</td>\n",
              "      <td>44590</td>\n",
              "      <td>44963</td>\n",
              "    </tr>\n",
              "    <tr>\n",
              "      <th>19</th>\n",
              "      <td>Ireland</td>\n",
              "      <td>93.83</td>\n",
              "      <td>93.50</td>\n",
              "      <td>92.80</td>\n",
              "      <td>92.299725</td>\n",
              "      <td>28901</td>\n",
              "      <td>30701</td>\n",
              "      <td>32601</td>\n",
              "      <td>33695</td>\n",
              "    </tr>\n",
              "    <tr>\n",
              "      <th>20</th>\n",
              "      <td>Japan</td>\n",
              "      <td>98.14</td>\n",
              "      <td>97.20</td>\n",
              "      <td>95.80</td>\n",
              "      <td>94.959891</td>\n",
              "      <td>29972</td>\n",
              "      <td>32982</td>\n",
              "      <td>34900</td>\n",
              "      <td>36920</td>\n",
              "    </tr>\n",
              "    <tr>\n",
              "      <th>21</th>\n",
              "      <td>Liechtenstein</td>\n",
              "      <td>98.27</td>\n",
              "      <td>98.10</td>\n",
              "      <td>97.80</td>\n",
              "      <td>97.167112</td>\n",
              "      <td>27401</td>\n",
              "      <td>29501</td>\n",
              "      <td>33510</td>\n",
              "      <td>33590</td>\n",
              "    </tr>\n",
              "    <tr>\n",
              "      <th>22</th>\n",
              "      <td>Malta</td>\n",
              "      <td>92.22</td>\n",
              "      <td>90.20</td>\n",
              "      <td>87.20</td>\n",
              "      <td>86.468165</td>\n",
              "      <td>38766</td>\n",
              "      <td>41366</td>\n",
              "      <td>43266</td>\n",
              "      <td>45890</td>\n",
              "    </tr>\n",
              "    <tr>\n",
              "      <th>23</th>\n",
              "      <td>Mexico</td>\n",
              "      <td>86.83</td>\n",
              "      <td>86.30</td>\n",
              "      <td>85.90</td>\n",
              "      <td>84.715205</td>\n",
              "      <td>31325</td>\n",
              "      <td>33312</td>\n",
              "      <td>35225</td>\n",
              "      <td>37850</td>\n",
              "    </tr>\n",
              "    <tr>\n",
              "      <th>24</th>\n",
              "      <td>Peru</td>\n",
              "      <td>24.44</td>\n",
              "      <td>24.30</td>\n",
              "      <td>24.21</td>\n",
              "      <td>23.601155</td>\n",
              "      <td>51092</td>\n",
              "      <td>53000</td>\n",
              "      <td>55092</td>\n",
              "      <td>57850</td>\n",
              "    </tr>\n",
              "    <tr>\n",
              "      <th>25</th>\n",
              "      <td>Poland</td>\n",
              "      <td>96.01</td>\n",
              "      <td>94.20</td>\n",
              "      <td>95.60</td>\n",
              "      <td>95.438052</td>\n",
              "      <td>35799</td>\n",
              "      <td>37549</td>\n",
              "      <td>37829</td>\n",
              "      <td>38920</td>\n",
              "    </tr>\n",
              "    <tr>\n",
              "      <th>26</th>\n",
              "      <td>Romania</td>\n",
              "      <td>89.34</td>\n",
              "      <td>87.30</td>\n",
              "      <td>86.90</td>\n",
              "      <td>85.958968</td>\n",
              "      <td>30951</td>\n",
              "      <td>32251</td>\n",
              "      <td>33651</td>\n",
              "      <td>35980</td>\n",
              "    </tr>\n",
              "    <tr>\n",
              "      <th>27</th>\n",
              "      <td>Senegal</td>\n",
              "      <td>75.00</td>\n",
              "      <td>75.20</td>\n",
              "      <td>75.30</td>\n",
              "      <td>74.370696</td>\n",
              "      <td>30839</td>\n",
              "      <td>32939</td>\n",
              "      <td>35339</td>\n",
              "      <td>37150</td>\n",
              "    </tr>\n",
              "    <tr>\n",
              "      <th>28</th>\n",
              "      <td>Singapore</td>\n",
              "      <td>99.85</td>\n",
              "      <td>99.80</td>\n",
              "      <td>98.50</td>\n",
              "      <td>97.887035</td>\n",
              "      <td>21012</td>\n",
              "      <td>24120</td>\n",
              "      <td>24112</td>\n",
              "      <td>26200</td>\n",
              "    </tr>\n",
              "    <tr>\n",
              "      <th>29</th>\n",
              "      <td>South Africa</td>\n",
              "      <td>75.00</td>\n",
              "      <td>74.60</td>\n",
              "      <td>73.00</td>\n",
              "      <td>72.195343</td>\n",
              "      <td>42756</td>\n",
              "      <td>43986</td>\n",
              "      <td>45130</td>\n",
              "      <td>48250</td>\n",
              "    </tr>\n",
              "    <tr>\n",
              "      <th>30</th>\n",
              "      <td>Sweden</td>\n",
              "      <td>95.33</td>\n",
              "      <td>95.36</td>\n",
              "      <td>96.50</td>\n",
              "      <td>95.923739</td>\n",
              "      <td>32004</td>\n",
              "      <td>34104</td>\n",
              "      <td>35920</td>\n",
              "      <td>36950</td>\n",
              "    </tr>\n",
              "    <tr>\n",
              "      <th>31</th>\n",
              "      <td>Thailand</td>\n",
              "      <td>79.56</td>\n",
              "      <td>77.99</td>\n",
              "      <td>76.99</td>\n",
              "      <td>76.275109</td>\n",
              "      <td>44226</td>\n",
              "      <td>46286</td>\n",
              "      <td>48100</td>\n",
              "      <td>50630</td>\n",
              "    </tr>\n",
              "    <tr>\n",
              "      <th>32</th>\n",
              "      <td>Turkey</td>\n",
              "      <td>94.97</td>\n",
              "      <td>94.85</td>\n",
              "      <td>93.65</td>\n",
              "      <td>92.791102</td>\n",
              "      <td>28003</td>\n",
              "      <td>30103</td>\n",
              "      <td>31542</td>\n",
              "      <td>33690</td>\n",
              "    </tr>\n",
              "    <tr>\n",
              "      <th>33</th>\n",
              "      <td>United Kingdom</td>\n",
              "      <td>96.50</td>\n",
              "      <td>94.60</td>\n",
              "      <td>94.20</td>\n",
              "      <td>93.985978</td>\n",
              "      <td>29516</td>\n",
              "      <td>31616</td>\n",
              "      <td>32816</td>\n",
              "      <td>33650</td>\n",
              "    </tr>\n",
              "  </tbody>\n",
              "</table>\n",
              "</div>\n",
              "      <button class=\"colab-df-convert\" onclick=\"convertToInteractive('df-78e0b209-04f3-46d2-868d-967560ddcaa5')\"\n",
              "              title=\"Convert this dataframe to an interactive table.\"\n",
              "              style=\"display:none;\">\n",
              "        \n",
              "  <svg xmlns=\"http://www.w3.org/2000/svg\" height=\"24px\"viewBox=\"0 0 24 24\"\n",
              "       width=\"24px\">\n",
              "    <path d=\"M0 0h24v24H0V0z\" fill=\"none\"/>\n",
              "    <path d=\"M18.56 5.44l.94 2.06.94-2.06 2.06-.94-2.06-.94-.94-2.06-.94 2.06-2.06.94zm-11 1L8.5 8.5l.94-2.06 2.06-.94-2.06-.94L8.5 2.5l-.94 2.06-2.06.94zm10 10l.94 2.06.94-2.06 2.06-.94-2.06-.94-.94-2.06-.94 2.06-2.06.94z\"/><path d=\"M17.41 7.96l-1.37-1.37c-.4-.4-.92-.59-1.43-.59-.52 0-1.04.2-1.43.59L10.3 9.45l-7.72 7.72c-.78.78-.78 2.05 0 2.83L4 21.41c.39.39.9.59 1.41.59.51 0 1.02-.2 1.41-.59l7.78-7.78 2.81-2.81c.8-.78.8-2.07 0-2.86zM5.41 20L4 18.59l7.72-7.72 1.47 1.35L5.41 20z\"/>\n",
              "  </svg>\n",
              "      </button>\n",
              "      \n",
              "  <style>\n",
              "    .colab-df-container {\n",
              "      display:flex;\n",
              "      flex-wrap:wrap;\n",
              "      gap: 12px;\n",
              "    }\n",
              "\n",
              "    .colab-df-convert {\n",
              "      background-color: #E8F0FE;\n",
              "      border: none;\n",
              "      border-radius: 50%;\n",
              "      cursor: pointer;\n",
              "      display: none;\n",
              "      fill: #1967D2;\n",
              "      height: 32px;\n",
              "      padding: 0 0 0 0;\n",
              "      width: 32px;\n",
              "    }\n",
              "\n",
              "    .colab-df-convert:hover {\n",
              "      background-color: #E2EBFA;\n",
              "      box-shadow: 0px 1px 2px rgba(60, 64, 67, 0.3), 0px 1px 3px 1px rgba(60, 64, 67, 0.15);\n",
              "      fill: #174EA6;\n",
              "    }\n",
              "\n",
              "    [theme=dark] .colab-df-convert {\n",
              "      background-color: #3B4455;\n",
              "      fill: #D2E3FC;\n",
              "    }\n",
              "\n",
              "    [theme=dark] .colab-df-convert:hover {\n",
              "      background-color: #434B5C;\n",
              "      box-shadow: 0px 1px 3px 1px rgba(0, 0, 0, 0.15);\n",
              "      filter: drop-shadow(0px 1px 2px rgba(0, 0, 0, 0.3));\n",
              "      fill: #FFFFFF;\n",
              "    }\n",
              "  </style>\n",
              "\n",
              "      <script>\n",
              "        const buttonEl =\n",
              "          document.querySelector('#df-78e0b209-04f3-46d2-868d-967560ddcaa5 button.colab-df-convert');\n",
              "        buttonEl.style.display =\n",
              "          google.colab.kernel.accessAllowed ? 'block' : 'none';\n",
              "\n",
              "        async function convertToInteractive(key) {\n",
              "          const element = document.querySelector('#df-78e0b209-04f3-46d2-868d-967560ddcaa5');\n",
              "          const dataTable =\n",
              "            await google.colab.kernel.invokeFunction('convertToInteractive',\n",
              "                                                     [key], {});\n",
              "          if (!dataTable) return;\n",
              "\n",
              "          const docLinkHtml = 'Like what you see? Visit the ' +\n",
              "            '<a target=\"_blank\" href=https://colab.research.google.com/notebooks/data_table.ipynb>data table notebook</a>'\n",
              "            + ' to learn more about interactive tables.';\n",
              "          element.innerHTML = '';\n",
              "          dataTable['output_type'] = 'display_data';\n",
              "          await google.colab.output.renderOutput(dataTable, element);\n",
              "          const docLink = document.createElement('div');\n",
              "          docLink.innerHTML = docLinkHtml;\n",
              "          element.appendChild(docLink);\n",
              "        }\n",
              "      </script>\n",
              "    </div>\n",
              "  </div>\n",
              "  "
            ],
            "text/plain": [
              "      Country_Name  NO2_2020  NO2_2021  NO2_2022   NO2_2023  Sales_2020  \\\n",
              "0        Argentina     91.67     89.40     88.30  87.632176       22090   \n",
              "1        Australia     65.48     65.70     66.10  65.359312       43844   \n",
              "2          Austria     94.47     92.10     90.50  90.075702       22090   \n",
              "3          Belgium     95.20     95.40     93.90  93.260113       34903   \n",
              "4           Brazil     91.08     89.50     88.90  88.479728       31673   \n",
              "5           Canada     96.95     95.40     95.20  94.092985       26833   \n",
              "6            Chile     92.85     90.54     90.60  89.627008       25440   \n",
              "7         Colombia     72.29     73.40     71.10  71.089140       19843   \n",
              "8       Costa Rica    100.00     98.39     95.20  94.126467       18452   \n",
              "9          Croatia     91.75     91.75     88.20  87.770915       39780   \n",
              "10          Cyprus     97.53     96.50     95.66  95.294189       31200   \n",
              "11         Denmark     92.50     89.35     88.70  88.065514       31881   \n",
              "12         Estonia     98.77     97.40     97.10  95.392469       29530   \n",
              "13         Finland     97.40     95.30     96.10  94.732979       30522   \n",
              "14          France     97.36     96.20     94.30  93.521207       30566   \n",
              "15         Germany     97.45     97.45     97.22  96.144569       29780   \n",
              "16          Greece     93.29     92.60     91.11  90.287896       31234   \n",
              "17         Hungary     95.49     94.30     95.10  93.572724       31281   \n",
              "18           India     83.69     84.10     82.40  82.610343       41065   \n",
              "19         Ireland     93.83     93.50     92.80  92.299725       28901   \n",
              "20           Japan     98.14     97.20     95.80  94.959891       29972   \n",
              "21   Liechtenstein     98.27     98.10     97.80  97.167112       27401   \n",
              "22           Malta     92.22     90.20     87.20  86.468165       38766   \n",
              "23          Mexico     86.83     86.30     85.90  84.715205       31325   \n",
              "24            Peru     24.44     24.30     24.21  23.601155       51092   \n",
              "25          Poland     96.01     94.20     95.60  95.438052       35799   \n",
              "26         Romania     89.34     87.30     86.90  85.958968       30951   \n",
              "27         Senegal     75.00     75.20     75.30  74.370696       30839   \n",
              "28       Singapore     99.85     99.80     98.50  97.887035       21012   \n",
              "29    South Africa     75.00     74.60     73.00  72.195343       42756   \n",
              "30          Sweden     95.33     95.36     96.50  95.923739       32004   \n",
              "31        Thailand     79.56     77.99     76.99  76.275109       44226   \n",
              "32          Turkey     94.97     94.85     93.65  92.791102       28003   \n",
              "33  United Kingdom     96.50     94.60     94.20  93.985978       29516   \n",
              "\n",
              "    Sales_2021  Sales_2022  Sales_2023  \n",
              "0        23980       25480       26935  \n",
              "1        45984       48900       50690  \n",
              "2        24120       26090       26890  \n",
              "3        36603       38903       40520  \n",
              "4        33473       35673       36590  \n",
              "5        28821       30159       32584  \n",
              "6        26640       27200       29635  \n",
              "7        21846       23843       23987  \n",
              "8        20452       23843       25369  \n",
              "9        42280       45900       47152  \n",
              "10       33200       34850       35920  \n",
              "11       33581       35281       36920  \n",
              "12       32530       34230       37890  \n",
              "13       32722       35260       37560  \n",
              "14       32362       34960       36589  \n",
              "15       31960       33692       35984  \n",
              "16       33224       35690       37459  \n",
              "17       33181       36300       38659  \n",
              "18       42465       44590       44963  \n",
              "19       30701       32601       33695  \n",
              "20       32982       34900       36920  \n",
              "21       29501       33510       33590  \n",
              "22       41366       43266       45890  \n",
              "23       33312       35225       37850  \n",
              "24       53000       55092       57850  \n",
              "25       37549       37829       38920  \n",
              "26       32251       33651       35980  \n",
              "27       32939       35339       37150  \n",
              "28       24120       24112       26200  \n",
              "29       43986       45130       48250  \n",
              "30       34104       35920       36950  \n",
              "31       46286       48100       50630  \n",
              "32       30103       31542       33690  \n",
              "33       31616       32816       33650  "
            ]
          },
          "execution_count": 105,
          "metadata": {},
          "output_type": "execute_result"
        }
      ],
      "source": [
        "#Dataframe final completo, que muestra hasta la contaminación del 2023\n",
        "\n",
        "df_final.insert(4,\"NO2_2023\", df_NO2new[\"NO2_2023\"])\n",
        "df_final"
      ]
    }
  ],
  "metadata": {
    "colab": {
      "provenance": []
    },
    "kernelspec": {
      "display_name": "Python 3",
      "name": "python3"
    },
    "language_info": {
      "name": "python"
    }
  },
  "nbformat": 4,
  "nbformat_minor": 0
}